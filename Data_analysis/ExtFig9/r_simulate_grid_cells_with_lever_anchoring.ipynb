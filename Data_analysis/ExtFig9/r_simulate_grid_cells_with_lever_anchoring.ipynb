{
 "cells": [
  {
   "cell_type": "markdown",
   "metadata": {},
   "source": [
    "# Imports"
   ]
  },
  {
   "cell_type": "code",
   "execution_count": 1,
   "metadata": {},
   "outputs": [],
   "source": [
    "%load_ext autoreload\n",
    "%autoreload 2\n",
    "%run ../../setup_project.py\n",
    "%run ../../generic_plot_functions.py"
   ]
  },
  {
   "cell_type": "code",
   "execution_count": 2,
   "metadata": {},
   "outputs": [
    {
     "name": "stdout",
     "output_type": "stream",
     "text": [
      "creating myProject, an autopipy.project object\n",
      "Project name: autopi_mec\n",
      "dataPath: /ext_drives/d91/data/projects/jingjie/Peng_et.al_2025_noInt/\n",
      "dlcModelPath: \n",
      "Reading /ext_drives/d91/data/projects/jingjie/Peng_et.al_2025_noInt//sessionList\n",
      "We have 180 testing sessions in the list\n",
      "spikeA.Kilosort_session objects are in sSessions\n"
     ]
    }
   ],
   "source": [
    "projectName, dataPath, dlcModelPath, myProject, sSessions= setup_project_session_lists(projectName=\"autopi_mec\",dataPath=PROJECT_DATA_PATH,dlcModelPath=\"\")"
   ]
  },
  {
   "cell_type": "markdown",
   "metadata": {},
   "source": [
    "# Functions"
   ]
  },
  {
   "cell_type": "code",
   "execution_count": 3,
   "metadata": {},
   "outputs": [],
   "source": [
    "import collections\n",
    "\n",
    "def nested_dict():\n",
    "    return collections.defaultdict(nested_dict)\n",
    "\n",
    "def load_spikeA_one_session(ses,pose_file_extension = \".pose.npy\"):\n",
    "\n",
    "    ses.load_parameters_from_files() \n",
    "    ap = Animal_pose(ses)\n",
    "    ap.pose_file_extension = pose_file_extension # This means that the ap will always load from this extension\n",
    "    ap.load_pose_from_file()\n",
    "    stl = Spike_train_loader()\n",
    "    stl.load_spike_train_kilosort(ses)\n",
    "    cg = Cell_group(stl,ap)\n",
    "    # we want to keep ap and cg after the function ends, one way is to store it in our sSes\n",
    "    ses.ap = ap\n",
    "    ses.cg = cg\n",
    "    \n",
    "def prepare_ses_sSes(sessionName):\n",
    "    sSes = [sSes for sSes in sSessions if sSes.name == sessionName][0]\n",
    "    ses = myProject.getSession(sessionName)\n",
    "\n",
    "    fn=ses.path+\"/ses.pickle\"\n",
    "    with open(fn, 'rb') as handle:\n",
    "        ses=pickle.load(handle)\n",
    "        \n",
    "    load_spikeA_one_session(sSes)\n",
    "\n",
    "    getSearchHomingIntervals(ses,sSes)\n",
    "    \n",
    "    sSes.ap.load_pose_from_file() # get original hd data, which file depends on what we used when calling prepareSessionsForSpatialAnalysis\n",
    "    \n",
    "    return ses, sSes"
   ]
  },
  {
   "cell_type": "markdown",
   "metadata": {},
   "source": [
    "# Simulate a grid cell"
   ]
  },
  {
   "cell_type": "code",
   "execution_count": 4,
   "metadata": {},
   "outputs": [],
   "source": [
    "testSession = 'jp3129-04062022-0108'"
   ]
  },
  {
   "cell_type": "code",
   "execution_count": 5,
   "metadata": {},
   "outputs": [],
   "source": [
    "from spikeA.Neuron import Simulated_grid_cell"
   ]
  },
  {
   "cell_type": "code",
   "execution_count": 6,
   "metadata": {},
   "outputs": [],
   "source": [
    "# load grid cell parameters\n",
    "ses, sSes = prepare_ses_sSes(testSession)"
   ]
  },
  {
   "cell_type": "code",
   "execution_count": 7,
   "metadata": {},
   "outputs": [],
   "source": [
    "fn = sSes.fileBase+\".grid_cell_parameters.pkl\"\n",
    "with open(fn, 'rb') as fp: \n",
    "    params = pickle.load(fp)"
   ]
  },
  {
   "cell_type": "code",
   "execution_count": 8,
   "metadata": {},
   "outputs": [],
   "source": [
    "paramsNeeded = params[4]"
   ]
  },
  {
   "cell_type": "code",
   "execution_count": 9,
   "metadata": {},
   "outputs": [
    {
     "data": {
      "text/plain": [
       "{'name': '389',\n",
       " 'grid_param_initial': {'period': array([25.64550687, 25.64550687, 25.64550687]),\n",
       "  'offset': array([-44,  -6]),\n",
       "  'peak_rate': 25,\n",
       "  'orientation': array([1.03549702, 2.08854484, 3.12404186])},\n",
       " 'grid_param_model_rigid': {'period': array([25.954012, 25.954012, 25.954012], dtype=float32),\n",
       "  'offset': array([-38.745296 ,   0.6185915], dtype=float32),\n",
       "  'peak_rate': array([17.531809], dtype=float32),\n",
       "  'orientation': array([1.13672638, 2.18392393, 3.23112148])},\n",
       " 'loss_rigid': array(128.72095, dtype=float32),\n",
       " 'r_rigid': 0.607279962750901,\n",
       " 'grid_param_model_flexible': {'period': array([28.524876, 23.573883, 24.056034], dtype=float32),\n",
       "  'offset': array([-37.234783 ,  -1.4142337], dtype=float32),\n",
       "  'peak_rate': array([19.710678], dtype=float32),\n",
       "  'orientation': array([1.1238792, 2.216137 , 3.0987103], dtype=float32)},\n",
       " 'loss_flexible': array(119.82578, dtype=float32),\n",
       " 'r_flexible': 0.7496378983277584}"
      ]
     },
     "execution_count": 9,
     "metadata": {},
     "output_type": "execute_result"
    }
   ],
   "source": [
    "paramsNeeded"
   ]
  },
  {
   "cell_type": "code",
   "execution_count": 10,
   "metadata": {},
   "outputs": [],
   "source": [
    "# load grid cell parameters\n",
    "ses, sSes = prepare_ses_sSes(testSession)\n",
    "\n",
    "interName = 'all_dark'\n",
    "sSes.ap.set_intervals(ses.intervalDict[interName])\n",
    "animalPose = sSes.ap.pose_ori\n"
   ]
  },
  {
   "cell_type": "code",
   "execution_count": 11,
   "metadata": {},
   "outputs": [
    {
     "data": {
      "text/plain": [
       "(590592, 8)"
      ]
     },
     "execution_count": 11,
     "metadata": {},
     "output_type": "execute_result"
    }
   ],
   "source": [
    "animalPose.shape"
   ]
  },
  {
   "cell_type": "code",
   "execution_count": 12,
   "metadata": {},
   "outputs": [],
   "source": [
    "testSim = Simulated_grid_cell(name=f\"test_389\", \n",
    "                                   offset=paramsNeeded['grid_param_model_flexible'][\"offset\"],\n",
    "                                   orientation=paramsNeeded['grid_param_model_flexible'][\"orientation\"],\n",
    "                                   period=paramsNeeded['grid_param_model_flexible'][\"period\"], \n",
    "                                   peak_rate=paramsNeeded['grid_param_model_flexible'][\"peak_rate\"], ap=sSes.ap)"
   ]
  },
  {
   "cell_type": "code",
   "execution_count": 13,
   "metadata": {},
   "outputs": [
    {
     "data": {
      "text/plain": [
       "<spikeA.Neuron.Simulated_grid_cell at 0x7f92ff0a7c10>"
      ]
     },
     "execution_count": 13,
     "metadata": {},
     "output_type": "execute_result"
    }
   ],
   "source": [
    "testSim"
   ]
  },
  {
   "cell_type": "code",
   "execution_count": 14,
   "metadata": {},
   "outputs": [],
   "source": [
    "xy_range=np.array([[-50,-50],[50,50]])\n",
    "testSim.spatial_properties.firing_rate_map_2d(cm_per_bin =3, smoothing_sigma_cm = 5, smoothing=True,xy_range=xy_range)"
   ]
  },
  {
   "cell_type": "code",
   "execution_count": 15,
   "metadata": {},
   "outputs": [
    {
     "data": {
      "text/plain": [
       "<matplotlib.image.AxesImage at 0x7f92fed32a90>"
      ]
     },
     "execution_count": 15,
     "metadata": {},
     "output_type": "execute_result"
    },
    {
     "data": {
      "image/png": "[encoded data removed]",
      "text/plain": [
       "<Figure size 640x480 with 1 Axes>"
      ]
     },
     "metadata": {},
     "output_type": "display_data"
    }
   ],
   "source": [
    "plt.imshow(testSim.spatial_properties.firing_rate_map.T, origin='lower',cmap='viridis')"
   ]
  },
  {
   "cell_type": "markdown",
   "metadata": {},
   "source": [
    "# Anchoring the grid cells everytime the animal is near the lever in darkness."
   ]
  },
  {
   "cell_type": "code",
   "execution_count": 16,
   "metadata": {},
   "outputs": [],
   "source": [
    "def anchorPositionByShifting(sessionName,interName=\"all_dark\",maxDistance=18):\n",
    "    \n",
    "    ses, sSes = prepare_ses_sSes(sessionName)\n",
    "    \n",
    "    \n",
    "    leverX,leverY,leverOri = getLeverPosition(ses)\n",
    "    mouseX = sSes.ap.pose_ori[:,1]-leverX\n",
    "    mouseY = sSes.ap.pose_ori[:,2]-leverY\n",
    "\n",
    "    D = np.sqrt(mouseX**2+mouseY**2)\n",
    "    sSes.ap.pose_ori[:,1][D>maxDistance]= np.nan\n",
    "    sSes.ap.pose_ori[:,2][D>maxDistance]= np.nan\n",
    "    \n",
    "    sSes.ap.set_intervals(ses.intervalDict[interName])\n",
    "    \n",
    "    #print(ses.intervalDict[interName])\n",
    "    print(sSes.ap.pose_ori.shape)\n",
    "    \n",
    "    return sSes"
   ]
  },
  {
   "cell_type": "code",
   "execution_count": 17,
   "metadata": {},
   "outputs": [
    {
     "name": "stdout",
     "output_type": "stream",
     "text": [
      "(590592, 8)\n"
     ]
    }
   ],
   "source": [
    "sSes = anchorPositionByShifting(testSession)"
   ]
  },
  {
   "cell_type": "code",
   "execution_count": 18,
   "metadata": {},
   "outputs": [],
   "source": [
    "testSim = Simulated_grid_cell(name=f\"test_389\", \n",
    "                                   offset=paramsNeeded['grid_param_model_flexible'][\"offset\"],\n",
    "                                   orientation=paramsNeeded['grid_param_model_flexible'][\"orientation\"],\n",
    "                                   period=paramsNeeded['grid_param_model_flexible'][\"period\"], \n",
    "                                   peak_rate=paramsNeeded['grid_param_model_flexible'][\"peak_rate\"], ap=sSes.ap)"
   ]
  },
  {
   "cell_type": "code",
   "execution_count": 19,
   "metadata": {},
   "outputs": [],
   "source": [
    "xy_range=np.array([[-50,-50],[50,50]])\n",
    "testSim.spatial_properties.firing_rate_map_2d(cm_per_bin =3, smoothing_sigma_cm = 5, smoothing=True,xy_range=xy_range)"
   ]
  },
  {
   "cell_type": "code",
   "execution_count": 20,
   "metadata": {},
   "outputs": [
    {
     "data": {
      "text/plain": [
       "<matplotlib.image.AxesImage at 0x7f92fed09d50>"
      ]
     },
     "execution_count": 20,
     "metadata": {},
     "output_type": "execute_result"
    },
    {
     "data": {
      "image/png": "[encoded data removed]",
      "text/plain": [
       "<Figure size 640x480 with 1 Axes>"
      ]
     },
     "metadata": {},
     "output_type": "display_data"
    }
   ],
   "source": [
    "# NOTE This is the map with no reanchoring\n",
    "plt.imshow(testSim.spatial_properties.firing_rate_map.T, origin='lower',cmap='viridis')"
   ]
  },
  {
   "cell_type": "markdown",
   "metadata": {},
   "source": [
    "# Test reanchoring position"
   ]
  },
  {
   "cell_type": "code",
   "execution_count": 21,
   "metadata": {},
   "outputs": [
    {
     "name": "stdout",
     "output_type": "stream",
     "text": [
      "(590592, 8)\n"
     ]
    }
   ],
   "source": [
    "sSes = anchorPositionByShifting(testSession,interName='all_dark')"
   ]
  },
  {
   "cell_type": "code",
   "execution_count": 22,
   "metadata": {},
   "outputs": [
    {
     "data": {
      "text/plain": [
       "array([[2940.12, 2961.66],\n",
       "       [3127.24, 3134.94],\n",
       "       [3380.36, 3391.64],\n",
       "       [3629.64, 3639.44],\n",
       "       [3690.48, 3710.  ],\n",
       "       [3847.62, 3866.04],\n",
       "       [4022.82, 4050.04],\n",
       "       [4250.32, 4263.06],\n",
       "       [4324.64, 4344.84],\n",
       "       [4484.6 , 4513.86],\n",
       "       [4576.82, 4586.88],\n",
       "       [4696.02, 4709.62],\n",
       "       [4805.78, 4843.94],\n",
       "       [4955.6 , 4971.3 ],\n",
       "       [5191.78, 5208.5 ],\n",
       "       [5355.58, 5362.14],\n",
       "       [5453.92, 5466.48],\n",
       "       [5533.42, 5546.08],\n",
       "       [5681.28, 5698.08],\n",
       "       [5753.3 , 5764.3 ],\n",
       "       [5827.58, 5834.82],\n",
       "       [6001.04, 6012.74],\n",
       "       [6068.62, 6106.78],\n",
       "       [6237.86, 6249.3 ],\n",
       "       [6364.3 , 6381.52],\n",
       "       [6469.  , 6502.04],\n",
       "       [6581.  , 6594.8 ],\n",
       "       [6667.92, 6676.02],\n",
       "       [6812.56, 6822.54],\n",
       "       [6981.92, 6997.94],\n",
       "       [7042.54, 7060.48],\n",
       "       [7167.72, 7184.92],\n",
       "       [7282.3 , 7288.  ],\n",
       "       [7356.1 , 7367.3 ],\n",
       "       [7411.3 , 7417.  ],\n",
       "       [7475.08, 7479.74],\n",
       "       [7571.36, 7583.98],\n",
       "       [7638.88, 7651.8 ],\n",
       "       [7714.04, 7719.34],\n",
       "       [7819.76, 7828.62],\n",
       "       [7936.68, 7947.94],\n",
       "       [8024.44, 8042.42],\n",
       "       [8195.76, 8213.12],\n",
       "       [8280.36, 8301.18],\n",
       "       [8368.82, 8386.88],\n",
       "       [8481.16, 8489.54],\n",
       "       [8552.58, 8561.74],\n",
       "       [8650.7 , 8660.68],\n",
       "       [8858.82, 8892.28],\n",
       "       [9035.96, 9052.72],\n",
       "       [9161.24, 9170.64],\n",
       "       [9227.04, 9238.5 ],\n",
       "       [9307.12, 9321.  ],\n",
       "       [9376.2 , 9388.32],\n",
       "       [9445.18, 9457.18],\n",
       "       [9513.94, 9524.82]])"
      ]
     },
     "execution_count": 22,
     "metadata": {},
     "output_type": "execute_result"
    }
   ],
   "source": [
    "ses.intervalDict['all_dark']"
   ]
  },
  {
   "cell_type": "code",
   "execution_count": 23,
   "metadata": {},
   "outputs": [
    {
     "data": {
      "text/plain": [
       "(590592, 8)"
      ]
     },
     "execution_count": 23,
     "metadata": {},
     "output_type": "execute_result"
    }
   ],
   "source": [
    "sSes.ap.pose_ori.shape"
   ]
  },
  {
   "cell_type": "code",
   "execution_count": 24,
   "metadata": {},
   "outputs": [
    {
     "name": "stdout",
     "output_type": "stream",
     "text": [
      "(28, 2)\n"
     ]
    }
   ],
   "source": [
    "ses, sSes = prepare_ses_sSes(testSession)\n",
    "\n",
    "interName = 'all_dark'\n",
    "# Assuming sSes.ap.pose_ori is a NumPy array with shape (590592, 8)\n",
    "pose_ori = sSes.ap.pose_ori.copy()\n",
    "\n",
    "# Retrieve the interval array from the dictionary\n",
    "interval = ses.intervalDict[interName]  # Shape: (14, 2)\n",
    "\n",
    "# Step 2: Select half of the intervals\n",
    "n_half = len(interval) // 2\n",
    "selected_intervals = interval[:n_half]\n",
    "print(selected_intervals.shape)\n",
    "\n",
    "# Step 3: Create a mask for positions within the selected intervals\n",
    "epsilon = 1e-5\n",
    "mask = np.zeros(pose_ori.shape[0], dtype=bool)\n",
    "for start, end in selected_intervals:\n",
    "    mask |= (pose_ori[:, 0] >= start - epsilon) & (pose_ori[:, 0] <= end + epsilon)\n",
    "\n",
    "# Step 4: Add 20 to the x (column 1) and y (column 2) coordinates for masked positions\n",
    "# Ensure that we don't modify NaN values\n",
    "pose_ori[mask, 1] = np.where(np.isnan(pose_ori[mask, 1]), np.nan, pose_ori[mask, 1] + 20)\n",
    "pose_ori[mask, 2] = np.where(np.isnan(pose_ori[mask, 2]), np.nan, pose_ori[mask, 2] + 20)\n",
    "\n",
    "# Step 5: Assign the modified array back to sSes.ap.pose_ori\n",
    "sSes.ap.pose_ori = pose_ori\n",
    "\n",
    "sSes.ap.set_intervals(interval)\n",
    "\n"
   ]
  },
  {
   "cell_type": "code",
   "execution_count": 25,
   "metadata": {},
   "outputs": [
    {
     "data": {
      "text/plain": [
       "{'name': '389',\n",
       " 'grid_param_initial': {'period': array([25.64550687, 25.64550687, 25.64550687]),\n",
       "  'offset': array([-44,  -6]),\n",
       "  'peak_rate': 25,\n",
       "  'orientation': array([1.03549702, 2.08854484, 3.12404186])},\n",
       " 'grid_param_model_rigid': {'period': array([25.954012, 25.954012, 25.954012], dtype=float32),\n",
       "  'offset': array([-38.745296 ,   0.6185915], dtype=float32),\n",
       "  'peak_rate': array([17.531809], dtype=float32),\n",
       "  'orientation': array([1.13672638, 2.18392393, 3.23112148])},\n",
       " 'loss_rigid': array(128.72095, dtype=float32),\n",
       " 'r_rigid': 0.607279962750901,\n",
       " 'grid_param_model_flexible': {'period': array([28.524876, 23.573883, 24.056034], dtype=float32),\n",
       "  'offset': array([-37.234783 ,  -1.4142337], dtype=float32),\n",
       "  'peak_rate': array([19.710678], dtype=float32),\n",
       "  'orientation': array([1.1238792, 2.216137 , 3.0987103], dtype=float32)},\n",
       " 'loss_flexible': array(119.82578, dtype=float32),\n",
       " 'r_flexible': 0.7496378983277584}"
      ]
     },
     "execution_count": 25,
     "metadata": {},
     "output_type": "execute_result"
    }
   ],
   "source": [
    "paramsNeeded"
   ]
  },
  {
   "cell_type": "code",
   "execution_count": 26,
   "metadata": {},
   "outputs": [],
   "source": [
    "testSim = Simulated_grid_cell(name=f\"test_389\", \n",
    "                                   offset=paramsNeeded['grid_param_model_flexible'][\"offset\"],\n",
    "                                   orientation=paramsNeeded['grid_param_model_flexible'][\"orientation\"],\n",
    "                                   period=paramsNeeded['grid_param_model_flexible'][\"period\"], \n",
    "                                   peak_rate=paramsNeeded['grid_param_model_flexible'][\"peak_rate\"], ap=sSes.ap)"
   ]
  },
  {
   "cell_type": "code",
   "execution_count": 27,
   "metadata": {},
   "outputs": [],
   "source": [
    "xy_range=np.array([[-50,-50],[50,50]])\n",
    "testSim.spatial_properties.firing_rate_map_2d(cm_per_bin =3, smoothing_sigma_cm = 3, smoothing=True,xy_range=xy_range)"
   ]
  },
  {
   "cell_type": "code",
   "execution_count": 28,
   "metadata": {},
   "outputs": [
    {
     "data": {
      "text/plain": [
       "<matplotlib.image.AxesImage at 0x7f92fec20490>"
      ]
     },
     "execution_count": 28,
     "metadata": {},
     "output_type": "execute_result"
    },
    {
     "data": {
      "image/png": "[encoded data removed]",
      "text/plain": [
       "<Figure size 640x480 with 1 Axes>"
      ]
     },
     "metadata": {},
     "output_type": "display_data"
    }
   ],
   "source": [
    "plt.imshow(testSim.spatial_properties.firing_rate_map.T, origin='lower',cmap='viridis')"
   ]
  },
  {
   "cell_type": "markdown",
   "metadata": {},
   "source": [
    "Changing the animal position will not work here, because the simulation of spike trains from grid cells \\\n",
    "would adjust to the new animal positions \\\n",
    "The best is to stitch the spike trains together"
   ]
  },
  {
   "cell_type": "markdown",
   "metadata": {},
   "source": [
    "# Stitch a neuron"
   ]
  },
  {
   "cell_type": "code",
   "execution_count": 29,
   "metadata": {},
   "outputs": [],
   "source": [
    "# Generate a neuron with spike train and animal position:"
   ]
  },
  {
   "cell_type": "code",
   "execution_count": 30,
   "metadata": {},
   "outputs": [],
   "source": [
    "from spikeA.Neuron import Neuron\n",
    "\n",
    "def plotReanchoredGridMap(animalPoseObject, inputSpikeTrain, inputInterval=None, show=False):\n",
    "\n",
    "    testNeuron = Neuron(name=\"test1\")\n",
    "\n",
    "    testNeuron.set_spike_train(st=inputSpikeTrain)\n",
    "\n",
    "    testNeuron.set_spatial_properties(\n",
    "        animal_pose=animalPoseObject\n",
    "    )  # lap will be changed if the pose object gets changed\n",
    "    testNeuron.remove_nan_from_ap()\n",
    "\n",
    "    if inputInterval is not None:\n",
    "        testNeuron.set_intervals(inputInterval)\n",
    "    else:\n",
    "        itv = testNeuron.inter\n",
    "        testNeuron.set_intervals(itv)\n",
    "\n",
    "    testNeuron.spatial_properties.firing_rate_map_2d(cm_per_bin =3, smoothing_sigma_cm = 5, \n",
    "                                                     smoothing=True,xy_range = np.array([[-50,-50],[50,50]]))\n",
    "    # print(testNeuron.spatial_properties.spike_position())\n",
    "    if show:\n",
    "        fig, ax = plt.subplots()\n",
    "        sns.scatterplot(\n",
    "            x=testNeuron.spatial_properties.spike_position()[:, 0],\n",
    "            y=testNeuron.spatial_properties.spike_position()[:, 1],\n",
    "            color=\"red\",\n",
    "            alpha=1,\n",
    "            s=5,\n",
    "        )\n",
    "        ax.set_aspect(\"equal\")\n",
    "        ax.set_xlim(-45, 45)\n",
    "        ax.set_ylim(-45, 45)\n",
    "        testNeuron.spike_train.instantaneous_firing_rate(bin_size_sec=0.02, sigma=2)\n",
    "\n",
    "        \n",
    "        fig, ax = plt.subplots()\n",
    "        plotMap(\n",
    "            ax,\n",
    "            testNeuron.spatial_properties.firing_rate_map,\n",
    "            title=\"{0:.2f} Hz\".format(\n",
    "                np.nanmax(testNeuron.spatial_properties.firing_rate_map)\n",
    "            ),\n",
    "        )\n",
    "\n",
    "    return testNeuron"
   ]
  },
  {
   "cell_type": "code",
   "execution_count": 31,
   "metadata": {},
   "outputs": [],
   "source": [
    "ses, sSes = prepare_ses_sSes(testSession)\n",
    "\n",
    "interName = 'circ80_1'\n",
    "sSes.ap.set_intervals(ses.intervalDict[interName])"
   ]
  },
  {
   "cell_type": "code",
   "execution_count": 32,
   "metadata": {},
   "outputs": [
    {
     "name": "stdout",
     "output_type": "stream",
     "text": [
      "(90665, 8)\n"
     ]
    }
   ],
   "source": [
    "print(sSes.ap.pose.shape)"
   ]
  },
  {
   "cell_type": "code",
   "execution_count": 33,
   "metadata": {},
   "outputs": [],
   "source": [
    "testSim = Simulated_grid_cell(name=f\"test_389\", \n",
    "                                   offset=paramsNeeded['grid_param_model_flexible'][\"offset\"],\n",
    "                                   orientation=paramsNeeded['grid_param_model_flexible'][\"orientation\"],\n",
    "                                   period=paramsNeeded['grid_param_model_flexible'][\"period\"], \n",
    "                                   peak_rate=paramsNeeded['grid_param_model_flexible'][\"peak_rate\"], ap=sSes.ap)"
   ]
  },
  {
   "cell_type": "code",
   "execution_count": 34,
   "metadata": {},
   "outputs": [
    {
     "name": "stdout",
     "output_type": "stream",
     "text": [
      "(88361, 8)\n"
     ]
    }
   ],
   "source": [
    "print(sSes.ap.pose.shape)"
   ]
  },
  {
   "cell_type": "code",
   "execution_count": 35,
   "metadata": {},
   "outputs": [],
   "source": [
    "spikeTrain = testSim.spike_train.st"
   ]
  },
  {
   "cell_type": "code",
   "execution_count": 36,
   "metadata": {},
   "outputs": [
    {
     "data": {
      "text/plain": [
       "<spikeA.Neuron.Neuron at 0x7f92fecadd50>"
      ]
     },
     "execution_count": 36,
     "metadata": {},
     "output_type": "execute_result"
    }
   ],
   "source": [
    "plotReanchoredGridMap(sSes.ap,spikeTrain)"
   ]
  },
  {
   "cell_type": "code",
   "execution_count": 37,
   "metadata": {},
   "outputs": [],
   "source": [
    "# I need a function to stitch spike trains together based on the animal position input. \n",
    "\n",
    "ses, sSes = prepare_ses_sSes(testSession)\n",
    "\n",
    "interName = 'all_dark'\n",
    "# Assuming sSes.ap.pose_ori is a NumPy array with shape (590592, 8)\n",
    "pose_ori = sSes.ap.pose_ori.copy()\n",
    "\n",
    "leverX,leverY,leverOri = getLeverPosition(ses)\n",
    "mouseX = sSes.ap.pose_ori[:,1]-leverX\n",
    "mouseY = sSes.ap.pose_ori[:,2]-leverY\n",
    "D = np.sqrt(mouseX**2+mouseY**2)\n",
    "\n",
    "leverCol = np.column_stack((leverX,leverY,D))  # Alternatively, new_columns = np.array([a, b]).T\n",
    "\n",
    "pose_ori_new = np.hstack((pose_ori, leverCol))\n",
    "\n",
    "\n",
    "sSes.ap.pose_ori = pose_ori_new\n",
    "\n",
    "\n",
    "# Retrieve the interval array from the dictionary\n",
    "interval = ses.intervalDict[interName]  # Shape: (14, 2)\n",
    "sSes.ap.set_intervals(interval)\n",
    "\n",
    "\n",
    "selected_intervals = interval[:]\n",
    "\n",
    "# Step 3: Create a mask for positions within the selected intervals\n",
    "stHolder = []\n",
    "poseHolder = []\n",
    "timeCounter = 0\n",
    "\n",
    "offset_ori = paramsNeeded['grid_param_model_flexible'][\"offset\"]\n",
    "for i, (start, end) in enumerate(selected_intervals):\n",
    "    #print(i)\n",
    "    \n",
    "    if i > 25:\n",
    "        offset_plot = offset_ori+13\n",
    "    else:\n",
    "        offset_plot = offset_ori\n",
    "    \n",
    "    sSes.ap.set_intervals(np.array([start,end]))\n",
    "    #print(sSes.ap.pose.shape)\n",
    "        \n",
    "    testSim = Simulated_grid_cell(name=f\"test_389\", \n",
    "                                    offset=offset_plot,\n",
    "                                    orientation=paramsNeeded['grid_param_model_flexible'][\"orientation\"],\n",
    "                                    period=paramsNeeded['grid_param_model_flexible'][\"period\"], \n",
    "                                    peak_rate=paramsNeeded['grid_param_model_flexible'][\"peak_rate\"], ap=sSes.ap)\n",
    "    \n",
    "    \n",
    "    \n",
    "\n",
    "    position = sSes.ap.pose\n",
    "    \n",
    "    poseDf = pd.DataFrame(position,columns = ['time','x','y','a','b','c','d','e','leverX','leverY','DistanceToLever'])\n",
    "    maxTime = poseDf.iloc[:,0].max()\n",
    "    \n",
    "    # print(maxTime)\n",
    "    # print('start:',start)\n",
    "    # print('End',end)\n",
    "    # print(start+maxTime)\n",
    "    \n",
    "    position[:,0] = position[:,0] + timeCounter\n",
    "    \n",
    "    \n",
    "    st = testSim.spike_train.st + timeCounter\n",
    "    \n",
    "    # Update the counter\n",
    "    timeCounter = position[-1][0]\n",
    "    stHolder.append(st)\n",
    "    poseHolder.append(position)\n",
    "\n",
    "\n",
    "    sSes.ap.unset_intervals()\n",
    "    sSes.ap.pose_ori = pose_ori_new\n",
    "        \n"
   ]
  },
  {
   "cell_type": "code",
   "execution_count": 38,
   "metadata": {},
   "outputs": [],
   "source": [
    "stitchedSt = np.concatenate(stHolder)\n",
    "stitchedPose = np.concatenate(poseHolder)"
   ]
  },
  {
   "cell_type": "code",
   "execution_count": 39,
   "metadata": {},
   "outputs": [
    {
     "data": {
      "text/plain": [
       "806.4999999977299"
      ]
     },
     "execution_count": 39,
     "metadata": {},
     "output_type": "execute_result"
    }
   ],
   "source": [
    "stitchedPose[:,0].max()"
   ]
  },
  {
   "cell_type": "code",
   "execution_count": 40,
   "metadata": {},
   "outputs": [],
   "source": [
    "sSes.ap.pose_ori = stitchedPose"
   ]
  },
  {
   "cell_type": "code",
   "execution_count": 41,
   "metadata": {},
   "outputs": [],
   "source": [
    "sSes.ap.pose = stitchedPose"
   ]
  },
  {
   "cell_type": "code",
   "execution_count": 42,
   "metadata": {},
   "outputs": [],
   "source": [
    "outN = plotReanchoredGridMap(sSes.ap,stitchedSt)"
   ]
  },
  {
   "cell_type": "markdown",
   "metadata": {},
   "source": [
    "# Get a function to move the grid map"
   ]
  },
  {
   "cell_type": "code",
   "execution_count": 43,
   "metadata": {},
   "outputs": [],
   "source": [
    "offset_ori = paramsNeeded['grid_param_model_flexible'][\"offset\"]"
   ]
  },
  {
   "cell_type": "code",
   "execution_count": 44,
   "metadata": {},
   "outputs": [
    {
     "data": {
      "text/plain": [
       "array([-37.23478317,  -0.41423368])"
      ]
     },
     "execution_count": 44,
     "metadata": {},
     "output_type": "execute_result"
    }
   ],
   "source": [
    "offset_ori + [0,1]"
   ]
  },
  {
   "cell_type": "code",
   "execution_count": 45,
   "metadata": {},
   "outputs": [],
   "source": [
    "ses, sSes = prepare_ses_sSes(testSession)\n",
    "\n",
    "interName = 'circ80_1'\n",
    "sSes.ap.set_intervals(ses.intervalDict[interName])\n",
    "animalPose = sSes.ap.pose_ori"
   ]
  },
  {
   "cell_type": "code",
   "execution_count": 46,
   "metadata": {},
   "outputs": [],
   "source": [
    "test_grid_period = np.median(paramsNeeded['grid_param_model_flexible'][\"period\"])"
   ]
  },
  {
   "cell_type": "code",
   "execution_count": 47,
   "metadata": {},
   "outputs": [
    {
     "data": {
      "text/plain": [
       "24.056034"
      ]
     },
     "execution_count": 47,
     "metadata": {},
     "output_type": "execute_result"
    }
   ],
   "source": [
    "test_grid_period"
   ]
  },
  {
   "cell_type": "code",
   "execution_count": 48,
   "metadata": {},
   "outputs": [],
   "source": [
    "def transform_lever_pose_to_grid_offset(leverPosition,grid_period):\n",
    "    '''\n",
    "    Function to transform a leverPosition to the grid offset in-order to reanchor the grid map\n",
    "    \n",
    "    '''"
   ]
  },
  {
   "cell_type": "code",
   "execution_count": 49,
   "metadata": {},
   "outputs": [],
   "source": [
    "leverPostionTest = [0,0]"
   ]
  },
  {
   "cell_type": "code",
   "execution_count": 50,
   "metadata": {},
   "outputs": [],
   "source": [
    "testSim = Simulated_grid_cell(name=f\"test_389\", \n",
    "                                   offset=offset_ori+leverPostionTest,\n",
    "                                   orientation=paramsNeeded['grid_param_model_flexible'][\"orientation\"],\n",
    "                                   period=paramsNeeded['grid_param_model_flexible'][\"period\"], \n",
    "                                   peak_rate=paramsNeeded['grid_param_model_flexible'][\"peak_rate\"], ap=sSes.ap)"
   ]
  },
  {
   "cell_type": "code",
   "execution_count": 51,
   "metadata": {},
   "outputs": [
    {
     "data": {
      "image/png": "[encoded data removed]",
      "text/plain": [
       "<Figure size 640x480 with 1 Axes>"
      ]
     },
     "metadata": {},
     "output_type": "display_data"
    }
   ],
   "source": [
    "xy_range=np.array([[-50,-50],[50,50]])\n",
    "def prep_spatial_map(testGc):\n",
    "    testGc.spatial_properties.firing_rate_map_2d(cm_per_bin =3, smoothing_sigma_cm = 5, smoothing=True,xy_range=xy_range)\n",
    "\n",
    "def test_lever_position_and_fr_map(ax,testGC,leverPose):\n",
    "    ax.imshow(testGC.spatial_properties.firing_rate_map.T, origin='lower',cmap='viridis')\n",
    "    \n",
    "    # Transform lever pose since the position are in the 34 by 34 square\n",
    "    transLeverPose = np.array(leverPose)/3\n",
    "    ax.scatter(transLeverPose[0]+17,transLeverPose[1]+17,s=30,c='red')\n",
    "    \n",
    "fig, ax =plt.subplots()\n",
    "prep_spatial_map(testSim)\n",
    "test_lever_position_and_fr_map(ax,testSim,leverPostionTest)"
   ]
  },
  {
   "cell_type": "markdown",
   "metadata": {},
   "source": [
    "# Move grid map by lever position"
   ]
  },
  {
   "cell_type": "code",
   "execution_count": 52,
   "metadata": {},
   "outputs": [
    {
     "data": {
      "image/png": "[encoded data removed]",
      "text/plain": [
       "<Figure size 640x480 with 1 Axes>"
      ]
     },
     "metadata": {},
     "output_type": "display_data"
    },
    {
     "data": {
      "image/png": "[encoded data removed]",
      "text/plain": [
       "<Figure size 640x480 with 1 Axes>"
      ]
     },
     "metadata": {},
     "output_type": "display_data"
    },
    {
     "data": {
      "image/png": "[encoded data removed]",
      "text/plain": [
       "<Figure size 640x480 with 1 Axes>"
      ]
     },
     "metadata": {},
     "output_type": "display_data"
    },
    {
     "data": {
      "image/png": "[encoded data removed]",
      "text/plain": [
       "<Figure size 640x480 with 1 Axes>"
      ]
     },
     "metadata": {},
     "output_type": "display_data"
    },
    {
     "data": {
      "image/png": "[encoded data removed]",
      "text/plain": [
       "<Figure size 640x480 with 1 Axes>"
      ]
     },
     "metadata": {},
     "output_type": "display_data"
    },
    {
     "data": {
      "image/png": "[encoded data removed]",
      "text/plain": [
       "<Figure size 640x480 with 1 Axes>"
      ]
     },
     "metadata": {},
     "output_type": "display_data"
    },
    {
     "data": {
      "image/png": "[encoded data removed]",
      "text/plain": [
       "<Figure size 640x480 with 1 Axes>"
      ]
     },
     "metadata": {},
     "output_type": "display_data"
    },
    {
     "data": {
      "image/png": "[encoded data removed]",
      "text/plain": [
       "<Figure size 640x480 with 1 Axes>"
      ]
     },
     "metadata": {},
     "output_type": "display_data"
    }
   ],
   "source": [
    "leverPostionTest = [[-30,-30],[-25,10],[-30,0],[-15,0],[-5,0],[0,0],[5,0],[20,20]]\n",
    "\n",
    "for leverPos in leverPostionTest:\n",
    "    leverPosTestGc = Simulated_grid_cell(name=f\"test_389\", \n",
    "                                   offset=offset_ori+leverPos,\n",
    "                                   orientation=paramsNeeded['grid_param_model_flexible'][\"orientation\"],\n",
    "                                   period=paramsNeeded['grid_param_model_flexible'][\"period\"], \n",
    "                                   peak_rate=paramsNeeded['grid_param_model_flexible'][\"peak_rate\"], ap=sSes.ap)\n",
    "    \n",
    "    prep_spatial_map(leverPosTestGc)\n",
    "    \n",
    "    fig, ax =plt.subplots()\n",
    "    test_lever_position_and_fr_map(ax,leverPosTestGc,leverPos)"
   ]
  },
  {
   "cell_type": "markdown",
   "metadata": {},
   "source": [
    "# Transform to lever reference frame"
   ]
  },
  {
   "cell_type": "code",
   "execution_count": 53,
   "metadata": {},
   "outputs": [
    {
     "name": "stdout",
     "output_type": "stream",
     "text": [
      "Error with num,interval: 0 [3127.24 3128.84]\n",
      "Error with num,interval: 0 [6667.92 6669.08]\n",
      "Error with num,interval: 0 [7282.3  7283.74]\n",
      "Error with num,interval: 0 [7411.3 7412.4]\n",
      "Error with num,interval: 0 [7475.08 7475.8 ]\n"
     ]
    }
   ],
   "source": [
    "# I need a function to stitch spike trains together based on the animal position input. \n",
    "\n",
    "ses, sSes = prepare_ses_sSes(testSession)\n",
    "\n",
    "interName = 'all_dark'\n",
    "\n",
    "leverX,leverY,leverOri = getLeverPosition(ses)\n",
    "mouseX = sSes.ap.pose_ori[:,1]-leverX\n",
    "mouseY = sSes.ap.pose_ori[:,2]-leverY\n",
    "D = np.sqrt(mouseX**2+mouseY**2)\n",
    "leverCol = np.column_stack((leverX,leverY,D))  \n",
    "\n",
    "\n",
    "\n",
    "pose_ori = sSes.ap.pose_ori.copy()\n",
    "pose_ori_new = np.hstack((pose_ori, leverCol))\n",
    "\n",
    "sSes.ap.pose_ori = pose_ori_new\n",
    "\n",
    "\n",
    "# Retrieve the interval array from the dictionary\n",
    "selected_intervals = ses.intervalDict[interName]  # Shape: (14, 2)\n",
    "sSes.ap.set_intervals(selected_intervals)\n",
    "\n",
    "\n",
    "# Step 3: Create a mask for positions within the selected intervals\n",
    "stHolder = []\n",
    "poseHolder = []\n",
    "leverPoseHolder = []\n",
    "timeCounter = 0\n",
    "\n",
    "offset_ori = paramsNeeded['grid_param_model_flexible'][\"offset\"]\n",
    "for i, (start, end) in enumerate(selected_intervals):\n",
    "\n",
    "    \n",
    "    sSes.ap.set_intervals(np.array([start,end]))\n",
    "        \n",
    "    _ = Simulated_grid_cell(name=f\"test_389\", \n",
    "                                    offset=offset_ori,\n",
    "                                    orientation=paramsNeeded['grid_param_model_flexible'][\"orientation\"],\n",
    "                                    period=paramsNeeded['grid_param_model_flexible'][\"period\"], \n",
    "                                    peak_rate=paramsNeeded['grid_param_model_flexible'][\"peak_rate\"], ap=sSes.ap)\n",
    "\n",
    "    position = sSes.ap.pose\n",
    "    \n",
    "    poseDf = pd.DataFrame(position,columns = ['time','x','y','a','b','c','d','e','leverX','leverY','DistanceToLever'])\n",
    "    \n",
    "    # Find the first index where 'DistanceToLever' is less than 10\n",
    "    first_idx = poseDf[poseDf['DistanceToLever'] < 10].index[0]\n",
    "    \n",
    "    # Find the index of the smallest distance\n",
    "    \n",
    "    #first_idx = poseDf['DistanceToLever'].idxmin()\n",
    "\n",
    "    # Slice the DataFrame up to and including the first occurrence, then reset the index\n",
    "    dataframeA = poseDf.loc[:first_idx].reset_index(drop=True)\n",
    "\n",
    "    # Get the maximum value of the first column\n",
    "    splitByTime = dataframeA.iloc[:, 0].max()\n",
    "    \n",
    "    medianTimeFromStartToEnd = (end - start)/2\n",
    "    \n",
    "\n",
    "    \n",
    "    middleTime = start + splitByTime\n",
    "    \n",
    "    # Get lever position for this trial\n",
    "    lx = poseDf.leverX.median()\n",
    "    ly = poseDf.leverY.median()\n",
    "    leverPoseHolder.append([lx,ly])\n",
    "    \n",
    "    sSes.ap.unset_intervals()\n",
    "    sSes.ap.pose_ori = pose_ori_new\n",
    "    \n",
    "    for num,intervalSplit in enumerate([np.array([start,middleTime]),np.array([middleTime,end])]):\n",
    "        #print(intervalSplit)\n",
    "        \n",
    "        sSes.ap.set_intervals(intervalSplit)\n",
    "        \n",
    "        if num == 1:\n",
    "            offset_plot = offset_ori+[lx,ly]\n",
    "        else:\n",
    "            offset_plot = offset_ori\n",
    "       \n",
    "        try:\n",
    "            testSim = Simulated_grid_cell(name=f\"test_389\", \n",
    "                                        offset=offset_plot,\n",
    "                                        orientation=paramsNeeded['grid_param_model_flexible'][\"orientation\"],\n",
    "                                        period=paramsNeeded['grid_param_model_flexible'][\"period\"], \n",
    "                                        peak_rate=paramsNeeded['grid_param_model_flexible'][\"peak_rate\"], ap=sSes.ap)\n",
    "            \n",
    "            split_p = sSes.ap.pose\n",
    "            \n",
    "            split_p[:,0] = split_p[:,0] + timeCounter\n",
    "            st = testSim.spike_train.st + timeCounter\n",
    "            \n",
    "            # Update the counter\n",
    "            timeCounter = split_p[-1][0]\n",
    "            stHolder.append(st)\n",
    "            poseHolder.append(split_p)\n",
    "        except:\n",
    "            print('Error with num,interval:',num, intervalSplit)\n",
    "            pass\n",
    "        \n",
    "        \n",
    "        sSes.ap.unset_intervals()\n",
    "        sSes.ap.pose_ori = pose_ori_new\n",
    "\n"
   ]
  },
  {
   "cell_type": "code",
   "execution_count": 54,
   "metadata": {},
   "outputs": [],
   "source": [
    "stitchedSt = np.concatenate(stHolder)\n",
    "stitchedPose = np.concatenate(poseHolder)"
   ]
  },
  {
   "cell_type": "code",
   "execution_count": 55,
   "metadata": {},
   "outputs": [
    {
     "data": {
      "text/plain": [
       "(40030, 11)"
      ]
     },
     "execution_count": 55,
     "metadata": {},
     "output_type": "execute_result"
    }
   ],
   "source": [
    "stitchedPose.shape"
   ]
  },
  {
   "cell_type": "code",
   "execution_count": 56,
   "metadata": {},
   "outputs": [
    {
     "data": {
      "text/plain": [
       "(40030, 11)"
      ]
     },
     "execution_count": 56,
     "metadata": {},
     "output_type": "execute_result"
    }
   ],
   "source": [
    "stitchedPose.shape"
   ]
  },
  {
   "cell_type": "code",
   "execution_count": 57,
   "metadata": {},
   "outputs": [],
   "source": [
    "sSes.ap.pose = stitchedPose"
   ]
  },
  {
   "cell_type": "code",
   "execution_count": 58,
   "metadata": {},
   "outputs": [],
   "source": [
    "outN = plotReanchoredGridMap(sSes.ap,stitchedSt)"
   ]
  },
  {
   "cell_type": "code",
   "execution_count": 59,
   "metadata": {},
   "outputs": [],
   "source": [
    "maxDistance = 18\n",
    "\n",
    "def plot_anchoring_to_lever_gc(animalPoseObject,inputSpikeTrain,inputInterval = None,show=False):\n",
    "    testNeuron = Neuron(name=\"test1\")\n",
    "\n",
    "    testNeuron.set_spike_train(st=inputSpikeTrain)\n",
    "\n",
    "    testNeuron.set_spatial_properties(\n",
    "        animal_pose=animalPoseObject\n",
    "    )  # lap will be changed if the pose object gets changed\n",
    "    testNeuron.remove_nan_from_ap()\n",
    "\n",
    "    if inputInterval is not None:\n",
    "        testNeuron.set_intervals(inputInterval)\n",
    "    else:\n",
    "        itv = testNeuron.inter\n",
    "        testNeuron.set_intervals(itv)\n",
    "\n",
    "    testNeuron.spatial_properties.firing_rate_map_2d(cm_per_bin =1, smoothing_sigma_cm = 2,smoothing=True,xy_range = np.array([[-maxDistance,-maxDistance],[maxDistance,maxDistance]]))\n",
    "    # print(testNeuron.spatial_properties.spike_position())\n",
    "    if show:\n",
    "        fig, ax = plt.subplots()\n",
    "        sns.scatterplot(\n",
    "            x=testNeuron.spatial_properties.spike_position()[:, 0],\n",
    "            y=testNeuron.spatial_properties.spike_position()[:, 1],\n",
    "            color=\"red\",\n",
    "            alpha=1,\n",
    "            s=5,\n",
    "        )\n",
    "        ax.set_aspect(\"equal\")\n",
    "        ax.set_xlim(-45, 45)\n",
    "        ax.set_ylim(-45, 45)\n",
    "        testNeuron.spike_train.instantaneous_firing_rate(bin_size_sec=0.02, sigma=2)\n",
    "\n",
    "        \n",
    "        fig, ax = plt.subplots()\n",
    "        plotMap(\n",
    "            ax,\n",
    "            testNeuron.spatial_properties.firing_rate_map,\n",
    "            title=\"{0:.2f} Hz\".format(\n",
    "                np.nanmax(testNeuron.spatial_properties.firing_rate_map)\n",
    "            ),\n",
    "        )\n",
    "        \n",
    "    return testNeuron\n"
   ]
  },
  {
   "cell_type": "code",
   "execution_count": 60,
   "metadata": {},
   "outputs": [],
   "source": [
    "outN = plotReanchoredGridMap(sSes.ap,stitchedSt)"
   ]
  },
  {
   "cell_type": "code",
   "execution_count": 61,
   "metadata": {},
   "outputs": [],
   "source": [
    "leverGc = plot_anchoring_to_lever_gc(sSes.ap,stitchedSt)"
   ]
  },
  {
   "cell_type": "code",
   "execution_count": 62,
   "metadata": {},
   "outputs": [],
   "source": [
    "# Change reference frame by chaninging the stitched position"
   ]
  },
  {
   "cell_type": "code",
   "execution_count": 63,
   "metadata": {},
   "outputs": [],
   "source": [
    "stitchedPoseDf = pd.DataFrame(stitchedPose,columns = ['time','x','y','a','b','c','d','e','leverX','leverY','DistanceToLever'])"
   ]
  },
  {
   "cell_type": "code",
   "execution_count": 64,
   "metadata": {},
   "outputs": [
    {
     "data": {
      "text/html": [
       "<div>\n",
       "<style scoped>\n",
       "    .dataframe tbody tr th:only-of-type {\n",
       "        vertical-align: middle;\n",
       "    }\n",
       "\n",
       "    .dataframe tbody tr th {\n",
       "        vertical-align: top;\n",
       "    }\n",
       "\n",
       "    .dataframe thead th {\n",
       "        text-align: right;\n",
       "    }\n",
       "</style>\n",
       "<table border=\"1\" class=\"dataframe\">\n",
       "  <thead>\n",
       "    <tr style=\"text-align: right;\">\n",
       "      <th></th>\n",
       "      <th>time</th>\n",
       "      <th>x</th>\n",
       "      <th>y</th>\n",
       "      <th>a</th>\n",
       "      <th>b</th>\n",
       "      <th>c</th>\n",
       "      <th>d</th>\n",
       "      <th>e</th>\n",
       "      <th>leverX</th>\n",
       "      <th>leverY</th>\n",
       "      <th>DistanceToLever</th>\n",
       "    </tr>\n",
       "  </thead>\n",
       "  <tbody>\n",
       "    <tr>\n",
       "      <th>0</th>\n",
       "      <td>0.02</td>\n",
       "      <td>3.151393</td>\n",
       "      <td>-43.469678</td>\n",
       "      <td>NaN</td>\n",
       "      <td>1.450409</td>\n",
       "      <td>NaN</td>\n",
       "      <td>NaN</td>\n",
       "      <td>1.654329e+09</td>\n",
       "      <td>22.473707</td>\n",
       "      <td>16.992318</td>\n",
       "      <td>63.474442</td>\n",
       "    </tr>\n",
       "    <tr>\n",
       "      <th>1</th>\n",
       "      <td>0.04</td>\n",
       "      <td>2.646672</td>\n",
       "      <td>-43.371469</td>\n",
       "      <td>NaN</td>\n",
       "      <td>1.444582</td>\n",
       "      <td>NaN</td>\n",
       "      <td>NaN</td>\n",
       "      <td>1.654329e+09</td>\n",
       "      <td>22.471750</td>\n",
       "      <td>16.993693</td>\n",
       "      <td>63.537285</td>\n",
       "    </tr>\n",
       "    <tr>\n",
       "      <th>2</th>\n",
       "      <td>0.06</td>\n",
       "      <td>2.401259</td>\n",
       "      <td>-43.263069</td>\n",
       "      <td>NaN</td>\n",
       "      <td>1.419912</td>\n",
       "      <td>NaN</td>\n",
       "      <td>NaN</td>\n",
       "      <td>1.654329e+09</td>\n",
       "      <td>22.469696</td>\n",
       "      <td>16.995151</td>\n",
       "      <td>63.512166</td>\n",
       "    </tr>\n",
       "    <tr>\n",
       "      <th>3</th>\n",
       "      <td>0.08</td>\n",
       "      <td>2.379202</td>\n",
       "      <td>-43.160346</td>\n",
       "      <td>NaN</td>\n",
       "      <td>1.387747</td>\n",
       "      <td>NaN</td>\n",
       "      <td>NaN</td>\n",
       "      <td>1.654329e+09</td>\n",
       "      <td>22.467550</td>\n",
       "      <td>16.996687</td>\n",
       "      <td>63.422476</td>\n",
       "    </tr>\n",
       "    <tr>\n",
       "      <th>4</th>\n",
       "      <td>0.10</td>\n",
       "      <td>2.313679</td>\n",
       "      <td>-43.092489</td>\n",
       "      <td>NaN</td>\n",
       "      <td>1.378802</td>\n",
       "      <td>NaN</td>\n",
       "      <td>NaN</td>\n",
       "      <td>1.654329e+09</td>\n",
       "      <td>22.465316</td>\n",
       "      <td>16.998300</td>\n",
       "      <td>63.379739</td>\n",
       "    </tr>\n",
       "    <tr>\n",
       "      <th>...</th>\n",
       "      <td>...</td>\n",
       "      <td>...</td>\n",
       "      <td>...</td>\n",
       "      <td>...</td>\n",
       "      <td>...</td>\n",
       "      <td>...</td>\n",
       "      <td>...</td>\n",
       "      <td>...</td>\n",
       "      <td>...</td>\n",
       "      <td>...</td>\n",
       "      <td>...</td>\n",
       "    </tr>\n",
       "    <tr>\n",
       "      <th>40025</th>\n",
       "      <td>800.52</td>\n",
       "      <td>-3.370708</td>\n",
       "      <td>-42.632261</td>\n",
       "      <td>NaN</td>\n",
       "      <td>-1.580198</td>\n",
       "      <td>NaN</td>\n",
       "      <td>NaN</td>\n",
       "      <td>1.654336e+09</td>\n",
       "      <td>17.144694</td>\n",
       "      <td>6.192960</td>\n",
       "      <td>52.960210</td>\n",
       "    </tr>\n",
       "    <tr>\n",
       "      <th>40026</th>\n",
       "      <td>800.54</td>\n",
       "      <td>-3.336197</td>\n",
       "      <td>-42.689195</td>\n",
       "      <td>NaN</td>\n",
       "      <td>-1.571178</td>\n",
       "      <td>NaN</td>\n",
       "      <td>NaN</td>\n",
       "      <td>1.654336e+09</td>\n",
       "      <td>17.144465</td>\n",
       "      <td>6.193209</td>\n",
       "      <td>52.999499</td>\n",
       "    </tr>\n",
       "    <tr>\n",
       "      <th>40027</th>\n",
       "      <td>800.56</td>\n",
       "      <td>-3.339824</td>\n",
       "      <td>-42.753000</td>\n",
       "      <td>NaN</td>\n",
       "      <td>-1.572495</td>\n",
       "      <td>NaN</td>\n",
       "      <td>NaN</td>\n",
       "      <td>1.654336e+09</td>\n",
       "      <td>17.144253</td>\n",
       "      <td>6.193468</td>\n",
       "      <td>53.059911</td>\n",
       "    </tr>\n",
       "    <tr>\n",
       "      <th>40028</th>\n",
       "      <td>800.58</td>\n",
       "      <td>-3.396156</td>\n",
       "      <td>-42.825813</td>\n",
       "      <td>NaN</td>\n",
       "      <td>-1.583367</td>\n",
       "      <td>NaN</td>\n",
       "      <td>NaN</td>\n",
       "      <td>1.654336e+09</td>\n",
       "      <td>17.144059</td>\n",
       "      <td>6.193740</td>\n",
       "      <td>53.149008</td>\n",
       "    </tr>\n",
       "    <tr>\n",
       "      <th>40029</th>\n",
       "      <td>800.60</td>\n",
       "      <td>-3.445175</td>\n",
       "      <td>-42.914836</td>\n",
       "      <td>NaN</td>\n",
       "      <td>-1.579634</td>\n",
       "      <td>NaN</td>\n",
       "      <td>NaN</td>\n",
       "      <td>1.654336e+09</td>\n",
       "      <td>17.143880</td>\n",
       "      <td>6.194021</td>\n",
       "      <td>53.250250</td>\n",
       "    </tr>\n",
       "  </tbody>\n",
       "</table>\n",
       "<p>40030 rows × 11 columns</p>\n",
       "</div>"
      ],
      "text/plain": [
       "         time         x          y   a         b   c   d             e  \\\n",
       "0        0.02  3.151393 -43.469678 NaN  1.450409 NaN NaN  1.654329e+09   \n",
       "1        0.04  2.646672 -43.371469 NaN  1.444582 NaN NaN  1.654329e+09   \n",
       "2        0.06  2.401259 -43.263069 NaN  1.419912 NaN NaN  1.654329e+09   \n",
       "3        0.08  2.379202 -43.160346 NaN  1.387747 NaN NaN  1.654329e+09   \n",
       "4        0.10  2.313679 -43.092489 NaN  1.378802 NaN NaN  1.654329e+09   \n",
       "...       ...       ...        ...  ..       ...  ..  ..           ...   \n",
       "40025  800.52 -3.370708 -42.632261 NaN -1.580198 NaN NaN  1.654336e+09   \n",
       "40026  800.54 -3.336197 -42.689195 NaN -1.571178 NaN NaN  1.654336e+09   \n",
       "40027  800.56 -3.339824 -42.753000 NaN -1.572495 NaN NaN  1.654336e+09   \n",
       "40028  800.58 -3.396156 -42.825813 NaN -1.583367 NaN NaN  1.654336e+09   \n",
       "40029  800.60 -3.445175 -42.914836 NaN -1.579634 NaN NaN  1.654336e+09   \n",
       "\n",
       "          leverX     leverY  DistanceToLever  \n",
       "0      22.473707  16.992318        63.474442  \n",
       "1      22.471750  16.993693        63.537285  \n",
       "2      22.469696  16.995151        63.512166  \n",
       "3      22.467550  16.996687        63.422476  \n",
       "4      22.465316  16.998300        63.379739  \n",
       "...          ...        ...              ...  \n",
       "40025  17.144694   6.192960        52.960210  \n",
       "40026  17.144465   6.193209        52.999499  \n",
       "40027  17.144253   6.193468        53.059911  \n",
       "40028  17.144059   6.193740        53.149008  \n",
       "40029  17.143880   6.194021        53.250250  \n",
       "\n",
       "[40030 rows x 11 columns]"
      ]
     },
     "execution_count": 64,
     "metadata": {},
     "output_type": "execute_result"
    }
   ],
   "source": [
    "stitchedPoseDf"
   ]
  },
  {
   "cell_type": "code",
   "execution_count": 65,
   "metadata": {},
   "outputs": [],
   "source": [
    "stitchedPoseDf['x'] = stitchedPoseDf['x'] - stitchedPoseDf['leverX']\n",
    "stitchedPoseDf['y'] = stitchedPoseDf['y'] - stitchedPoseDf['leverY']"
   ]
  },
  {
   "cell_type": "code",
   "execution_count": 66,
   "metadata": {},
   "outputs": [
    {
     "data": {
      "text/html": [
       "<div>\n",
       "<style scoped>\n",
       "    .dataframe tbody tr th:only-of-type {\n",
       "        vertical-align: middle;\n",
       "    }\n",
       "\n",
       "    .dataframe tbody tr th {\n",
       "        vertical-align: top;\n",
       "    }\n",
       "\n",
       "    .dataframe thead th {\n",
       "        text-align: right;\n",
       "    }\n",
       "</style>\n",
       "<table border=\"1\" class=\"dataframe\">\n",
       "  <thead>\n",
       "    <tr style=\"text-align: right;\">\n",
       "      <th></th>\n",
       "      <th>time</th>\n",
       "      <th>x</th>\n",
       "      <th>y</th>\n",
       "      <th>a</th>\n",
       "      <th>b</th>\n",
       "      <th>c</th>\n",
       "      <th>d</th>\n",
       "      <th>e</th>\n",
       "      <th>leverX</th>\n",
       "      <th>leverY</th>\n",
       "      <th>DistanceToLever</th>\n",
       "    </tr>\n",
       "  </thead>\n",
       "  <tbody>\n",
       "    <tr>\n",
       "      <th>0</th>\n",
       "      <td>0.02</td>\n",
       "      <td>-19.322314</td>\n",
       "      <td>-60.461996</td>\n",
       "      <td>NaN</td>\n",
       "      <td>1.450409</td>\n",
       "      <td>NaN</td>\n",
       "      <td>NaN</td>\n",
       "      <td>1.654329e+09</td>\n",
       "      <td>22.473707</td>\n",
       "      <td>16.992318</td>\n",
       "      <td>63.474442</td>\n",
       "    </tr>\n",
       "    <tr>\n",
       "      <th>1</th>\n",
       "      <td>0.04</td>\n",
       "      <td>-19.825078</td>\n",
       "      <td>-60.365162</td>\n",
       "      <td>NaN</td>\n",
       "      <td>1.444582</td>\n",
       "      <td>NaN</td>\n",
       "      <td>NaN</td>\n",
       "      <td>1.654329e+09</td>\n",
       "      <td>22.471750</td>\n",
       "      <td>16.993693</td>\n",
       "      <td>63.537285</td>\n",
       "    </tr>\n",
       "    <tr>\n",
       "      <th>2</th>\n",
       "      <td>0.06</td>\n",
       "      <td>-20.068437</td>\n",
       "      <td>-60.258220</td>\n",
       "      <td>NaN</td>\n",
       "      <td>1.419912</td>\n",
       "      <td>NaN</td>\n",
       "      <td>NaN</td>\n",
       "      <td>1.654329e+09</td>\n",
       "      <td>22.469696</td>\n",
       "      <td>16.995151</td>\n",
       "      <td>63.512166</td>\n",
       "    </tr>\n",
       "    <tr>\n",
       "      <th>3</th>\n",
       "      <td>0.08</td>\n",
       "      <td>-20.088349</td>\n",
       "      <td>-60.157034</td>\n",
       "      <td>NaN</td>\n",
       "      <td>1.387747</td>\n",
       "      <td>NaN</td>\n",
       "      <td>NaN</td>\n",
       "      <td>1.654329e+09</td>\n",
       "      <td>22.467550</td>\n",
       "      <td>16.996687</td>\n",
       "      <td>63.422476</td>\n",
       "    </tr>\n",
       "    <tr>\n",
       "      <th>4</th>\n",
       "      <td>0.10</td>\n",
       "      <td>-20.151637</td>\n",
       "      <td>-60.090789</td>\n",
       "      <td>NaN</td>\n",
       "      <td>1.378802</td>\n",
       "      <td>NaN</td>\n",
       "      <td>NaN</td>\n",
       "      <td>1.654329e+09</td>\n",
       "      <td>22.465316</td>\n",
       "      <td>16.998300</td>\n",
       "      <td>63.379739</td>\n",
       "    </tr>\n",
       "    <tr>\n",
       "      <th>...</th>\n",
       "      <td>...</td>\n",
       "      <td>...</td>\n",
       "      <td>...</td>\n",
       "      <td>...</td>\n",
       "      <td>...</td>\n",
       "      <td>...</td>\n",
       "      <td>...</td>\n",
       "      <td>...</td>\n",
       "      <td>...</td>\n",
       "      <td>...</td>\n",
       "      <td>...</td>\n",
       "    </tr>\n",
       "    <tr>\n",
       "      <th>40025</th>\n",
       "      <td>800.52</td>\n",
       "      <td>-20.515401</td>\n",
       "      <td>-48.825220</td>\n",
       "      <td>NaN</td>\n",
       "      <td>-1.580198</td>\n",
       "      <td>NaN</td>\n",
       "      <td>NaN</td>\n",
       "      <td>1.654336e+09</td>\n",
       "      <td>17.144694</td>\n",
       "      <td>6.192960</td>\n",
       "      <td>52.960210</td>\n",
       "    </tr>\n",
       "    <tr>\n",
       "      <th>40026</th>\n",
       "      <td>800.54</td>\n",
       "      <td>-20.480662</td>\n",
       "      <td>-48.882404</td>\n",
       "      <td>NaN</td>\n",
       "      <td>-1.571178</td>\n",
       "      <td>NaN</td>\n",
       "      <td>NaN</td>\n",
       "      <td>1.654336e+09</td>\n",
       "      <td>17.144465</td>\n",
       "      <td>6.193209</td>\n",
       "      <td>52.999499</td>\n",
       "    </tr>\n",
       "    <tr>\n",
       "      <th>40027</th>\n",
       "      <td>800.56</td>\n",
       "      <td>-20.484077</td>\n",
       "      <td>-48.946468</td>\n",
       "      <td>NaN</td>\n",
       "      <td>-1.572495</td>\n",
       "      <td>NaN</td>\n",
       "      <td>NaN</td>\n",
       "      <td>1.654336e+09</td>\n",
       "      <td>17.144253</td>\n",
       "      <td>6.193468</td>\n",
       "      <td>53.059911</td>\n",
       "    </tr>\n",
       "    <tr>\n",
       "      <th>40028</th>\n",
       "      <td>800.58</td>\n",
       "      <td>-20.540215</td>\n",
       "      <td>-49.019553</td>\n",
       "      <td>NaN</td>\n",
       "      <td>-1.583367</td>\n",
       "      <td>NaN</td>\n",
       "      <td>NaN</td>\n",
       "      <td>1.654336e+09</td>\n",
       "      <td>17.144059</td>\n",
       "      <td>6.193740</td>\n",
       "      <td>53.149008</td>\n",
       "    </tr>\n",
       "    <tr>\n",
       "      <th>40029</th>\n",
       "      <td>800.60</td>\n",
       "      <td>-20.589055</td>\n",
       "      <td>-49.108858</td>\n",
       "      <td>NaN</td>\n",
       "      <td>-1.579634</td>\n",
       "      <td>NaN</td>\n",
       "      <td>NaN</td>\n",
       "      <td>1.654336e+09</td>\n",
       "      <td>17.143880</td>\n",
       "      <td>6.194021</td>\n",
       "      <td>53.250250</td>\n",
       "    </tr>\n",
       "  </tbody>\n",
       "</table>\n",
       "<p>40030 rows × 11 columns</p>\n",
       "</div>"
      ],
      "text/plain": [
       "         time          x          y   a         b   c   d             e  \\\n",
       "0        0.02 -19.322314 -60.461996 NaN  1.450409 NaN NaN  1.654329e+09   \n",
       "1        0.04 -19.825078 -60.365162 NaN  1.444582 NaN NaN  1.654329e+09   \n",
       "2        0.06 -20.068437 -60.258220 NaN  1.419912 NaN NaN  1.654329e+09   \n",
       "3        0.08 -20.088349 -60.157034 NaN  1.387747 NaN NaN  1.654329e+09   \n",
       "4        0.10 -20.151637 -60.090789 NaN  1.378802 NaN NaN  1.654329e+09   \n",
       "...       ...        ...        ...  ..       ...  ..  ..           ...   \n",
       "40025  800.52 -20.515401 -48.825220 NaN -1.580198 NaN NaN  1.654336e+09   \n",
       "40026  800.54 -20.480662 -48.882404 NaN -1.571178 NaN NaN  1.654336e+09   \n",
       "40027  800.56 -20.484077 -48.946468 NaN -1.572495 NaN NaN  1.654336e+09   \n",
       "40028  800.58 -20.540215 -49.019553 NaN -1.583367 NaN NaN  1.654336e+09   \n",
       "40029  800.60 -20.589055 -49.108858 NaN -1.579634 NaN NaN  1.654336e+09   \n",
       "\n",
       "          leverX     leverY  DistanceToLever  \n",
       "0      22.473707  16.992318        63.474442  \n",
       "1      22.471750  16.993693        63.537285  \n",
       "2      22.469696  16.995151        63.512166  \n",
       "3      22.467550  16.996687        63.422476  \n",
       "4      22.465316  16.998300        63.379739  \n",
       "...          ...        ...              ...  \n",
       "40025  17.144694   6.192960        52.960210  \n",
       "40026  17.144465   6.193209        52.999499  \n",
       "40027  17.144253   6.193468        53.059911  \n",
       "40028  17.144059   6.193740        53.149008  \n",
       "40029  17.143880   6.194021        53.250250  \n",
       "\n",
       "[40030 rows x 11 columns]"
      ]
     },
     "execution_count": 66,
     "metadata": {},
     "output_type": "execute_result"
    }
   ],
   "source": [
    "stitchedPoseDf"
   ]
  },
  {
   "cell_type": "code",
   "execution_count": 67,
   "metadata": {},
   "outputs": [],
   "source": [
    "stitchedPoseDf.loc[stitchedPoseDf['DistanceToLever'] > 18, ['y']] = np.nan"
   ]
  },
  {
   "cell_type": "code",
   "execution_count": 68,
   "metadata": {},
   "outputs": [
    {
     "data": {
      "text/html": [
       "<div>\n",
       "<style scoped>\n",
       "    .dataframe tbody tr th:only-of-type {\n",
       "        vertical-align: middle;\n",
       "    }\n",
       "\n",
       "    .dataframe tbody tr th {\n",
       "        vertical-align: top;\n",
       "    }\n",
       "\n",
       "    .dataframe thead th {\n",
       "        text-align: right;\n",
       "    }\n",
       "</style>\n",
       "<table border=\"1\" class=\"dataframe\">\n",
       "  <thead>\n",
       "    <tr style=\"text-align: right;\">\n",
       "      <th></th>\n",
       "      <th>time</th>\n",
       "      <th>x</th>\n",
       "      <th>y</th>\n",
       "      <th>a</th>\n",
       "      <th>b</th>\n",
       "      <th>c</th>\n",
       "      <th>d</th>\n",
       "      <th>e</th>\n",
       "      <th>leverX</th>\n",
       "      <th>leverY</th>\n",
       "      <th>DistanceToLever</th>\n",
       "    </tr>\n",
       "  </thead>\n",
       "  <tbody>\n",
       "    <tr>\n",
       "      <th>0</th>\n",
       "      <td>0.02</td>\n",
       "      <td>-19.322314</td>\n",
       "      <td>NaN</td>\n",
       "      <td>NaN</td>\n",
       "      <td>1.450409</td>\n",
       "      <td>NaN</td>\n",
       "      <td>NaN</td>\n",
       "      <td>1.654329e+09</td>\n",
       "      <td>22.473707</td>\n",
       "      <td>16.992318</td>\n",
       "      <td>63.474442</td>\n",
       "    </tr>\n",
       "    <tr>\n",
       "      <th>1</th>\n",
       "      <td>0.04</td>\n",
       "      <td>-19.825078</td>\n",
       "      <td>NaN</td>\n",
       "      <td>NaN</td>\n",
       "      <td>1.444582</td>\n",
       "      <td>NaN</td>\n",
       "      <td>NaN</td>\n",
       "      <td>1.654329e+09</td>\n",
       "      <td>22.471750</td>\n",
       "      <td>16.993693</td>\n",
       "      <td>63.537285</td>\n",
       "    </tr>\n",
       "    <tr>\n",
       "      <th>2</th>\n",
       "      <td>0.06</td>\n",
       "      <td>-20.068437</td>\n",
       "      <td>NaN</td>\n",
       "      <td>NaN</td>\n",
       "      <td>1.419912</td>\n",
       "      <td>NaN</td>\n",
       "      <td>NaN</td>\n",
       "      <td>1.654329e+09</td>\n",
       "      <td>22.469696</td>\n",
       "      <td>16.995151</td>\n",
       "      <td>63.512166</td>\n",
       "    </tr>\n",
       "    <tr>\n",
       "      <th>3</th>\n",
       "      <td>0.08</td>\n",
       "      <td>-20.088349</td>\n",
       "      <td>NaN</td>\n",
       "      <td>NaN</td>\n",
       "      <td>1.387747</td>\n",
       "      <td>NaN</td>\n",
       "      <td>NaN</td>\n",
       "      <td>1.654329e+09</td>\n",
       "      <td>22.467550</td>\n",
       "      <td>16.996687</td>\n",
       "      <td>63.422476</td>\n",
       "    </tr>\n",
       "    <tr>\n",
       "      <th>4</th>\n",
       "      <td>0.10</td>\n",
       "      <td>-20.151637</td>\n",
       "      <td>NaN</td>\n",
       "      <td>NaN</td>\n",
       "      <td>1.378802</td>\n",
       "      <td>NaN</td>\n",
       "      <td>NaN</td>\n",
       "      <td>1.654329e+09</td>\n",
       "      <td>22.465316</td>\n",
       "      <td>16.998300</td>\n",
       "      <td>63.379739</td>\n",
       "    </tr>\n",
       "    <tr>\n",
       "      <th>...</th>\n",
       "      <td>...</td>\n",
       "      <td>...</td>\n",
       "      <td>...</td>\n",
       "      <td>...</td>\n",
       "      <td>...</td>\n",
       "      <td>...</td>\n",
       "      <td>...</td>\n",
       "      <td>...</td>\n",
       "      <td>...</td>\n",
       "      <td>...</td>\n",
       "      <td>...</td>\n",
       "    </tr>\n",
       "    <tr>\n",
       "      <th>40025</th>\n",
       "      <td>800.52</td>\n",
       "      <td>-20.515401</td>\n",
       "      <td>NaN</td>\n",
       "      <td>NaN</td>\n",
       "      <td>-1.580198</td>\n",
       "      <td>NaN</td>\n",
       "      <td>NaN</td>\n",
       "      <td>1.654336e+09</td>\n",
       "      <td>17.144694</td>\n",
       "      <td>6.192960</td>\n",
       "      <td>52.960210</td>\n",
       "    </tr>\n",
       "    <tr>\n",
       "      <th>40026</th>\n",
       "      <td>800.54</td>\n",
       "      <td>-20.480662</td>\n",
       "      <td>NaN</td>\n",
       "      <td>NaN</td>\n",
       "      <td>-1.571178</td>\n",
       "      <td>NaN</td>\n",
       "      <td>NaN</td>\n",
       "      <td>1.654336e+09</td>\n",
       "      <td>17.144465</td>\n",
       "      <td>6.193209</td>\n",
       "      <td>52.999499</td>\n",
       "    </tr>\n",
       "    <tr>\n",
       "      <th>40027</th>\n",
       "      <td>800.56</td>\n",
       "      <td>-20.484077</td>\n",
       "      <td>NaN</td>\n",
       "      <td>NaN</td>\n",
       "      <td>-1.572495</td>\n",
       "      <td>NaN</td>\n",
       "      <td>NaN</td>\n",
       "      <td>1.654336e+09</td>\n",
       "      <td>17.144253</td>\n",
       "      <td>6.193468</td>\n",
       "      <td>53.059911</td>\n",
       "    </tr>\n",
       "    <tr>\n",
       "      <th>40028</th>\n",
       "      <td>800.58</td>\n",
       "      <td>-20.540215</td>\n",
       "      <td>NaN</td>\n",
       "      <td>NaN</td>\n",
       "      <td>-1.583367</td>\n",
       "      <td>NaN</td>\n",
       "      <td>NaN</td>\n",
       "      <td>1.654336e+09</td>\n",
       "      <td>17.144059</td>\n",
       "      <td>6.193740</td>\n",
       "      <td>53.149008</td>\n",
       "    </tr>\n",
       "    <tr>\n",
       "      <th>40029</th>\n",
       "      <td>800.60</td>\n",
       "      <td>-20.589055</td>\n",
       "      <td>NaN</td>\n",
       "      <td>NaN</td>\n",
       "      <td>-1.579634</td>\n",
       "      <td>NaN</td>\n",
       "      <td>NaN</td>\n",
       "      <td>1.654336e+09</td>\n",
       "      <td>17.143880</td>\n",
       "      <td>6.194021</td>\n",
       "      <td>53.250250</td>\n",
       "    </tr>\n",
       "  </tbody>\n",
       "</table>\n",
       "<p>40030 rows × 11 columns</p>\n",
       "</div>"
      ],
      "text/plain": [
       "         time          x   y   a         b   c   d             e     leverX  \\\n",
       "0        0.02 -19.322314 NaN NaN  1.450409 NaN NaN  1.654329e+09  22.473707   \n",
       "1        0.04 -19.825078 NaN NaN  1.444582 NaN NaN  1.654329e+09  22.471750   \n",
       "2        0.06 -20.068437 NaN NaN  1.419912 NaN NaN  1.654329e+09  22.469696   \n",
       "3        0.08 -20.088349 NaN NaN  1.387747 NaN NaN  1.654329e+09  22.467550   \n",
       "4        0.10 -20.151637 NaN NaN  1.378802 NaN NaN  1.654329e+09  22.465316   \n",
       "...       ...        ...  ..  ..       ...  ..  ..           ...        ...   \n",
       "40025  800.52 -20.515401 NaN NaN -1.580198 NaN NaN  1.654336e+09  17.144694   \n",
       "40026  800.54 -20.480662 NaN NaN -1.571178 NaN NaN  1.654336e+09  17.144465   \n",
       "40027  800.56 -20.484077 NaN NaN -1.572495 NaN NaN  1.654336e+09  17.144253   \n",
       "40028  800.58 -20.540215 NaN NaN -1.583367 NaN NaN  1.654336e+09  17.144059   \n",
       "40029  800.60 -20.589055 NaN NaN -1.579634 NaN NaN  1.654336e+09  17.143880   \n",
       "\n",
       "          leverY  DistanceToLever  \n",
       "0      16.992318        63.474442  \n",
       "1      16.993693        63.537285  \n",
       "2      16.995151        63.512166  \n",
       "3      16.996687        63.422476  \n",
       "4      16.998300        63.379739  \n",
       "...          ...              ...  \n",
       "40025   6.192960        52.960210  \n",
       "40026   6.193209        52.999499  \n",
       "40027   6.193468        53.059911  \n",
       "40028   6.193740        53.149008  \n",
       "40029   6.194021        53.250250  \n",
       "\n",
       "[40030 rows x 11 columns]"
      ]
     },
     "execution_count": 68,
     "metadata": {},
     "output_type": "execute_result"
    }
   ],
   "source": [
    "stitchedPoseDf"
   ]
  },
  {
   "cell_type": "code",
   "execution_count": 69,
   "metadata": {},
   "outputs": [],
   "source": [
    "leverCenteredAp = stitchedPoseDf.to_numpy()"
   ]
  },
  {
   "cell_type": "code",
   "execution_count": 70,
   "metadata": {},
   "outputs": [],
   "source": [
    "ses, sSes = prepare_ses_sSes(testSession)"
   ]
  },
  {
   "cell_type": "code",
   "execution_count": 71,
   "metadata": {},
   "outputs": [],
   "source": [
    "stitchedSt = np.concatenate(stHolder)"
   ]
  },
  {
   "cell_type": "code",
   "execution_count": 72,
   "metadata": {},
   "outputs": [
    {
     "data": {
      "text/plain": [
       "array([4.962000e-01, 5.774000e-01, 6.395000e-01, ..., 7.990509e+02,\n",
       "       7.991178e+02, 7.993377e+02])"
      ]
     },
     "execution_count": 72,
     "metadata": {},
     "output_type": "execute_result"
    }
   ],
   "source": [
    "stitchedSt"
   ]
  },
  {
   "cell_type": "code",
   "execution_count": 73,
   "metadata": {},
   "outputs": [],
   "source": [
    "sSes.ap.pose = leverCenteredAp"
   ]
  },
  {
   "cell_type": "code",
   "execution_count": 74,
   "metadata": {},
   "outputs": [],
   "source": [
    "outN = plotReanchoredGridMap(sSes.ap,stitchedSt)"
   ]
  },
  {
   "cell_type": "code",
   "execution_count": 75,
   "metadata": {},
   "outputs": [
    {
     "data": {
      "text/plain": [
       "array([4.962000e-01, 5.774000e-01, 6.395000e-01, ..., 7.990509e+02,\n",
       "       7.991178e+02, 7.993377e+02])"
      ]
     },
     "execution_count": 75,
     "metadata": {},
     "output_type": "execute_result"
    }
   ],
   "source": [
    "outN.spike_train.st"
   ]
  },
  {
   "cell_type": "code",
   "execution_count": 76,
   "metadata": {},
   "outputs": [],
   "source": [
    "leverGc = plot_anchoring_to_lever_gc(sSes.ap,stitchedSt)"
   ]
  },
  {
   "cell_type": "markdown",
   "metadata": {},
   "source": [
    "# Create a function from this"
   ]
  },
  {
   "cell_type": "code",
   "execution_count": 77,
   "metadata": {},
   "outputs": [],
   "source": [
    "\n",
    "# The idea is to get for each example neuron, a simulated neuron\n",
    "# And what it looks like in the lever reference frame and room reference frame\n",
    "def load_parameters_from_session(cell_name):\n",
    "    \n",
    "    inputSession, cellId = cell_name.split('_')\n",
    "    \n",
    "    # load grid cell parameters\n",
    "    ses, sSes = prepare_ses_sSes(inputSession)\n",
    "\n",
    "    fn = sSes.fileBase+\".grid_cell_parameters.pkl\"\n",
    "    with open(fn, 'rb') as fp: \n",
    "        params = pickle.load(fp)\n",
    "        \n",
    "    for p in params:\n",
    "        if p['name'] == cellId:\n",
    "            neededParams = p\n",
    "            \n",
    "            return neededParams\n",
    "\n",
    "def generate_reanchoring_simulated_grid_cells(cell_name,interName = 'all_dark',with_reanchoring=True):\n",
    "    \n",
    "    inputSession, cellId = cell_name.split('_')\n",
    "    \n",
    "    # I need a function to stitch spike trains together based on the animal position input. \n",
    "    ses, sSes = prepare_ses_sSes(inputSession)\n",
    "    paramsNeeded = load_parameters_from_session(cell_name)\n",
    "\n",
    "    leverX,leverY,leverOri = getLeverPosition(ses)\n",
    "    mouseX = sSes.ap.pose_ori[:,1]-leverX\n",
    "    mouseY = sSes.ap.pose_ori[:,2]-leverY\n",
    "    D = np.sqrt(mouseX**2+mouseY**2)\n",
    "    leverCol = np.column_stack((leverX,leverY,D))  \n",
    "\n",
    "    pose_ori = sSes.ap.pose_ori.copy()\n",
    "    pose_ori_new = np.hstack((pose_ori, leverCol))\n",
    "\n",
    "    sSes.ap.pose_ori = pose_ori_new\n",
    "\n",
    "\n",
    "    # Retrieve the interval array from the dictionary\n",
    "    selected_intervals = ses.intervalDict[interName]  # Shape: (14, 2)\n",
    "    sSes.ap.set_intervals(selected_intervals)\n",
    "\n",
    "\n",
    "    # Step 3: Create a mask for positions within the selected intervals\n",
    "    stHolder = []\n",
    "    poseHolder = []\n",
    "    leverPoseHolder = []\n",
    "    timeCounter = 0\n",
    "\n",
    "    offset_ori = paramsNeeded['grid_param_model_flexible'][\"offset\"]\n",
    "    for i, (start, end) in enumerate(selected_intervals):\n",
    "\n",
    "        \n",
    "        sSes.ap.set_intervals(np.array([start,end]))\n",
    "            \n",
    "        _ = Simulated_grid_cell(name=f\"test_389\", \n",
    "                                        offset=offset_ori,\n",
    "                                        orientation=paramsNeeded['grid_param_model_flexible'][\"orientation\"],\n",
    "                                        period=paramsNeeded['grid_param_model_flexible'][\"period\"], \n",
    "                                        peak_rate=paramsNeeded['grid_param_model_flexible'][\"peak_rate\"], ap=sSes.ap)\n",
    "\n",
    "        position = sSes.ap.pose\n",
    "        \n",
    "        poseDf = pd.DataFrame(position,columns = ['time','x','y','a','b','c','d','e','leverX','leverY','DistanceToLever'])\n",
    "        \n",
    "        # Find the first index where 'DistanceToLever' is less than 10\n",
    "        first_idx = poseDf[poseDf['DistanceToLever'] < 10].index[0]\n",
    "\n",
    "        # Slice the DataFrame up to and including the first occurrence, then reset the index\n",
    "        dataframeA = poseDf.loc[:first_idx].reset_index(drop=True)\n",
    "\n",
    "        # Get the maximum value of the first column\n",
    "        splitByTime = dataframeA.iloc[:, 0].max() #Split by the first time arriving at the lever\n",
    "        medianTimeFromStartToEnd = (end - start)/2 #Split by the middle\n",
    "        \n",
    "        #print(splitByTime,medianTimeFromStartToEnd)\n",
    "        \n",
    "        middleTime = start + splitByTime\n",
    "        \n",
    "        # Get lever position for this trial\n",
    "        lx = poseDf.leverX.median()\n",
    "        ly = poseDf.leverY.median()\n",
    "        leverPoseHolder.append([lx,ly])\n",
    "        \n",
    "        sSes.ap.unset_intervals()\n",
    "        sSes.ap.pose_ori = pose_ori_new\n",
    "        \n",
    "        for num,intervalSplit in enumerate([np.array([start,middleTime]),np.array([middleTime,end])]):\n",
    "            #print(intervalSplit)\n",
    "            \n",
    "            sSes.ap.set_intervals(intervalSplit)\n",
    "            \n",
    "            if with_reanchoring:\n",
    "            \n",
    "                if num == 1:\n",
    "                    offset_plot = offset_ori+[lx,ly]\n",
    "                else:\n",
    "                    offset_plot = offset_ori\n",
    "            else:\n",
    "                if num == 1:\n",
    "                    offset_plot = offset_ori#+[lx,ly]\n",
    "                else:\n",
    "                    offset_plot = offset_ori\n",
    "        \n",
    "            try:\n",
    "                testSim = Simulated_grid_cell(name=f\"test_389\", \n",
    "                                            offset=offset_plot,\n",
    "                                            orientation=paramsNeeded['grid_param_model_flexible'][\"orientation\"],\n",
    "                                            period=paramsNeeded['grid_param_model_flexible'][\"period\"], \n",
    "                                            peak_rate=paramsNeeded['grid_param_model_flexible'][\"peak_rate\"], ap=sSes.ap)\n",
    "                \n",
    "                split_p = sSes.ap.pose\n",
    "                \n",
    "                split_p[:,0] = split_p[:,0] + timeCounter\n",
    "                st = testSim.spike_train.st + timeCounter\n",
    "                \n",
    "                # Update the counter\n",
    "                timeCounter = split_p[-1][0]\n",
    "                stHolder.append(st)\n",
    "                poseHolder.append(split_p)\n",
    "            except:\n",
    "                print('Error with num,interval:',num, intervalSplit)\n",
    "                pass\n",
    "            \n",
    "            \n",
    "            sSes.ap.unset_intervals()\n",
    "            sSes.ap.pose_ori = pose_ori_new\n",
    "            \n",
    "    stitchedSt = np.concatenate(stHolder)\n",
    "    stitchedPose = np.concatenate(poseHolder)\n",
    "    \n",
    "    return stitchedPose, stitchedSt\n",
    "\n",
    "def generate_reanchoring_simulated_grid_cells_reanchoring_per_trial(cell_name,interName = 'all_dark',with_reanchoring=True):\n",
    "    \n",
    "    inputSession, cellId = cell_name.split('_')\n",
    "    \n",
    "    # I need a function to stitch spike trains together based on the animal position input. \n",
    "    ses, sSes = prepare_ses_sSes(inputSession)\n",
    "    paramsNeeded = load_parameters_from_session(cell_name)\n",
    "\n",
    "    leverX,leverY,leverOri = getLeverPosition(ses)\n",
    "    mouseX = sSes.ap.pose_ori[:,1]-leverX\n",
    "    mouseY = sSes.ap.pose_ori[:,2]-leverY\n",
    "    D = np.sqrt(mouseX**2+mouseY**2)\n",
    "    leverCol = np.column_stack((leverX,leverY,D))  \n",
    "\n",
    "    pose_ori = sSes.ap.pose_ori.copy()\n",
    "    pose_ori_new = np.hstack((pose_ori, leverCol))\n",
    "\n",
    "    sSes.ap.pose_ori = pose_ori_new\n",
    "\n",
    "\n",
    "    # Retrieve the interval array from the dictionary\n",
    "    selected_intervals = ses.intervalDict[interName]  # Shape: (14, 2)\n",
    "    sSes.ap.set_intervals(selected_intervals)\n",
    "\n",
    "\n",
    "    # Step 3: Create a mask for positions within the selected intervals\n",
    "    stHolder = []\n",
    "    poseHolder = []\n",
    "    leverPoseHolder = []\n",
    "    timeCounter = 0\n",
    "\n",
    "    offset_ori = paramsNeeded['grid_param_model_flexible'][\"offset\"]\n",
    "    for i, (start, end) in enumerate(selected_intervals):\n",
    "\n",
    "        \n",
    "        sSes.ap.set_intervals(np.array([start,end]))\n",
    "        \n",
    "            \n",
    "        _ = Simulated_grid_cell(name=f\"test_389\", \n",
    "                                        offset=offset_ori,\n",
    "                                        orientation=paramsNeeded['grid_param_model_flexible'][\"orientation\"],\n",
    "                                        period=paramsNeeded['grid_param_model_flexible'][\"period\"], \n",
    "                                        peak_rate=paramsNeeded['grid_param_model_flexible'][\"peak_rate\"], ap=sSes.ap)\n",
    "\n",
    "        position = sSes.ap.pose\n",
    "        \n",
    "        poseDf = pd.DataFrame(position,columns = ['time','x','y','a','b','c','d','e','leverX','leverY','DistanceToLever'])\n",
    "        \n",
    "        \n",
    "        # Get lever position for this trial\n",
    "        lx = poseDf.leverX.median()\n",
    "        ly = poseDf.leverY.median()\n",
    "        leverPoseHolder.append([lx,ly])\n",
    "        \n",
    "        sSes.ap.unset_intervals()\n",
    "        sSes.ap.pose_ori = pose_ori_new\n",
    "        \n",
    "        sSes.ap.set_intervals(np.array([start,end]))\n",
    "            \n",
    "        # NOTE offset based on lever position\n",
    "        \n",
    "        if with_reanchoring:\n",
    "            \n",
    "            offset_plot = offset_ori+[lx,ly]\n",
    "        else:\n",
    "            offset_plot = offset_ori\n",
    "            \n",
    "        testSim = Simulated_grid_cell(name=f\"test_389\", \n",
    "                                    offset=offset_plot,\n",
    "                                    orientation=paramsNeeded['grid_param_model_flexible'][\"orientation\"],\n",
    "                                    period=paramsNeeded['grid_param_model_flexible'][\"period\"], \n",
    "                                    peak_rate=paramsNeeded['grid_param_model_flexible'][\"peak_rate\"], ap=sSes.ap)\n",
    "            \n",
    "        split_p = sSes.ap.pose\n",
    "        \n",
    "        split_p[:,0] = split_p[:,0] + timeCounter\n",
    "        st = testSim.spike_train.st + timeCounter\n",
    "        \n",
    "        # Update the counter\n",
    "        timeCounter = split_p[-1][0]\n",
    "        stHolder.append(st)\n",
    "        poseHolder.append(split_p)\n",
    "            \n",
    "        sSes.ap.unset_intervals()\n",
    "        sSes.ap.pose_ori = pose_ori_new\n",
    "            \n",
    "    stitchedSt = np.concatenate(stHolder)\n",
    "    stitchedPose = np.concatenate(poseHolder)\n",
    "    \n",
    "    return stitchedPose, stitchedSt\n",
    "\n",
    "def process_animal_pose_lever_ref(stichedPosition):\n",
    "    stitchedPoseDf = pd.DataFrame(stichedPosition,columns = ['time','x','y','a','b','c','d','e',\n",
    "                                                          'leverX','leverY','DistanceToLever'])\n",
    "    \n",
    "    stitchedPoseDf['x'] = stitchedPoseDf['x'] - stitchedPoseDf['leverX']\n",
    "    stitchedPoseDf['y'] = stitchedPoseDf['y'] - stitchedPoseDf['leverY']\n",
    "    \n",
    "    stitchedPoseDf.loc[stitchedPoseDf['DistanceToLever'] > 18, ['y']] = np.nan\n",
    "    \n",
    "    lever_ref_position = stitchedPoseDf.to_numpy()\n",
    "    \n",
    "    return lever_ref_position\n",
    "\n",
    "def process_animal_pose_room_ref(stichedPosition):\n",
    "    stitchedPoseDf = pd.DataFrame(stichedPosition,columns = ['time','x','y','a','b','c','d','e',\n",
    "                                                          'leverX','leverY','DistanceToLever'])\n",
    "    \n",
    "    stitchedPoseDf.loc[stitchedPoseDf['DistanceToLever'] > 18, ['y']] = np.nan\n",
    "    \n",
    "    lever_room_position = stitchedPoseDf.to_numpy()\n",
    "    \n",
    "    return lever_room_position\n",
    "\n",
    "\n",
    "def get_room_lever_gc(cell_name,anchor=True):\n",
    "    stitchedPose, stitchedSt = generate_reanchoring_simulated_grid_cells_reanchoring_per_trial(cell_name,interName='all_dark',with_reanchoring=anchor)\n",
    "    \n",
    "    inputSession, cellId = cell_name.split('_')\n",
    "    \n",
    "    ses, sSes = prepare_ses_sSes(inputSession)\n",
    "    lever_ref_pose = process_animal_pose_lever_ref(stitchedPose)\n",
    "    sSes.ap.pose = lever_ref_pose\n",
    "    lever_gc = plot_anchoring_to_lever_gc(sSes.ap,stitchedSt)\n",
    "    \n",
    "    ses, sSes = prepare_ses_sSes(inputSession)\n",
    "    room_ref_pose = process_animal_pose_room_ref(stitchedPose)\n",
    "    sSes.ap.pose = room_ref_pose\n",
    "    room_gc = plotReanchoredGridMap(sSes.ap,stitchedSt)\n",
    "    \n",
    "    return room_gc, lever_gc\n",
    "    \n",
    "        "
   ]
  },
  {
   "cell_type": "code",
   "execution_count": 78,
   "metadata": {},
   "outputs": [],
   "source": [
    "testSession = 'jp3129-04062022-0108'\n",
    "cellId = '389'\n",
    "cell_name = 'jp3129-04062022-0108_389'"
   ]
  },
  {
   "cell_type": "code",
   "execution_count": 79,
   "metadata": {},
   "outputs": [
    {
     "name": "stdout",
     "output_type": "stream",
     "text": [
      "Error with num,interval: 0 [7282.3  7283.74]\n",
      "Error with num,interval: 0 [7411.3 7412.4]\n",
      "Error with num,interval: 0 [7475.08 7475.8 ]\n"
     ]
    }
   ],
   "source": [
    "stitchedPose, stitchedSt = generate_reanchoring_simulated_grid_cells(cell_name,interName='all_dark')    "
   ]
  },
  {
   "cell_type": "code",
   "execution_count": 80,
   "metadata": {},
   "outputs": [],
   "source": [
    "ses, sSes = prepare_ses_sSes(testSession)\n",
    "\n",
    "lever_ref_pose = process_animal_pose_lever_ref(stitchedPose)\n",
    "\n",
    "sSes.ap.pose = lever_ref_pose\n",
    "\n",
    "lever_gc = plot_anchoring_to_lever_gc(sSes.ap,stitchedSt)"
   ]
  },
  {
   "cell_type": "code",
   "execution_count": 81,
   "metadata": {},
   "outputs": [],
   "source": [
    "ses, sSes = prepare_ses_sSes(testSession)\n",
    "\n",
    "room_ref_pose = process_animal_pose_room_ref(stitchedPose)\n",
    "\n",
    "sSes.ap.pose = room_ref_pose\n",
    "\n",
    "room_gc = plotReanchoredGridMap(sSes.ap,stitchedSt)"
   ]
  },
  {
   "cell_type": "code",
   "execution_count": 82,
   "metadata": {},
   "outputs": [],
   "source": [
    "def get_simulated_grid_cell_circ80_1(cell_name):\n",
    "    testSession, cellId = cell_name.split('_')\n",
    "    ses, sSes = prepare_ses_sSes(testSession)\n",
    "    \n",
    "    neededParams = load_parameters_from_session(cell_name)\n",
    "    \n",
    "    sSes.ap.set_intervals(ses.intervalDict['circ80_1'])\n",
    "            \n",
    "    sim_gc_circ1 = Simulated_grid_cell(name=f\"test_389\", \n",
    "                                    offset=neededParams['grid_param_model_flexible'][\"offset\"],\n",
    "                                    orientation=neededParams['grid_param_model_flexible'][\"orientation\"],\n",
    "                                    period=neededParams['grid_param_model_flexible'][\"period\"], \n",
    "                                    peak_rate=neededParams['grid_param_model_flexible'][\"peak_rate\"], ap=sSes.ap)\n",
    "    \n",
    "    sim_gc_circ1.spatial_properties.firing_rate_map_2d(cm_per_bin =3, smoothing_sigma_cm = 5, \n",
    "                                                     smoothing=True,xy_range = np.array([[-50,-50],[50,50]]))\n",
    "    \n",
    "    return sim_gc_circ1"
   ]
  },
  {
   "cell_type": "code",
   "execution_count": 83,
   "metadata": {},
   "outputs": [
    {
     "data": {
      "text/plain": [
       "<matplotlib.image.AxesImage at 0x7f92fe6fb410>"
      ]
     },
     "execution_count": 83,
     "metadata": {},
     "output_type": "execute_result"
    },
    {
     "data": {
      "image/png": "[encoded data removed]",
      "text/plain": [
       "<Figure size 640x480 with 1 Axes>"
      ]
     },
     "metadata": {},
     "output_type": "display_data"
    }
   ],
   "source": [
    "im = get_simulated_grid_cell_circ80_1('jp3129-04062022-0108_389')\n",
    "inputMap = im.spatial_properties.firing_rate_map\n",
    "plt.imshow(inputMap)"
   ]
  },
  {
   "cell_type": "code",
   "execution_count": 84,
   "metadata": {},
   "outputs": [],
   "source": [
    "room_gc, lever_gc = get_room_lever_gc(cell_name,anchor=True)"
   ]
  },
  {
   "cell_type": "code",
   "execution_count": 85,
   "metadata": {},
   "outputs": [],
   "source": [
    "cell_name = 'jp486-26032023-0108_751'\n",
    "room_gc, lever_gc = get_room_lever_gc(cell_name,anchor=True)"
   ]
  },
  {
   "cell_type": "markdown",
   "metadata": {},
   "source": [
    "# Make final figure"
   ]
  },
  {
   "cell_type": "code",
   "execution_count": 86,
   "metadata": {},
   "outputs": [],
   "source": [
    "GLOBALFONTSIZE = 12"
   ]
  },
  {
   "cell_type": "code",
   "execution_count": 87,
   "metadata": {},
   "outputs": [],
   "source": [
    "# Simulated with/without grid cell reanchoring\n",
    "def plot_firing_rate_map(ax,inputMap):\n",
    "    im = inputMap\n",
    "\n",
    "    im=im[:,~np.isnan(im).all(axis=0)]\n",
    "    im=im[~np.isnan(im).all(axis=1),:]\n",
    "    ax.imshow(im.T,origin=\"lower\",cmap='viridis',interpolation=None)\n",
    "    \n",
    "    ax.set_title(f'{np.round(np.nanmax(im),2)} Hz',fontsize=GLOBALFONTSIZE)\n",
    "    ax.set_xlabel('')\n",
    "    ax.spines['top'].set_visible(False)\n",
    "    ax.spines['right'].set_visible(False)\n",
    "    ax.spines['left'].set_visible(False)\n",
    "    ax.spines['bottom'].set_visible(False)\n",
    "    ax.set_xticks([])\n",
    "    ax.set_yticks([])"
   ]
  },
  {
   "cell_type": "code",
   "execution_count": 88,
   "metadata": {},
   "outputs": [
    {
     "data": {
      "image/png": "[encoded data removed]",
      "text/plain": [
       "<Figure size 1200x600 with 4 Axes>"
      ]
     },
     "metadata": {},
     "output_type": "display_data"
    }
   ],
   "source": [
    "import matplotlib.pyplot as plt\n",
    "import numpy as np\n",
    "from matplotlib.patches import Rectangle\n",
    "\n",
    "# Sample data for two heatmaps with different bin sizes\n",
    "# Heatmap 1: 10x10 bins\n",
    "data1 = np.random.rand(10, 10)\n",
    "# Heatmap 2: 20x20 bins\n",
    "data2 = np.random.rand(20, 20)\n",
    "\n",
    "# Create subplots\n",
    "fig, axes = plt.subplots(1, 2, figsize=(12, 6))\n",
    "\n",
    "# Plot Heatmap 1\n",
    "im1 = axes[0].imshow(data1, cmap='viridis', aspect='auto')\n",
    "axes[0].set_title('Heatmap 1 (10x10 bins)')\n",
    "fig.colorbar(im1, ax=axes[0], fraction=0.046, pad=0.04)\n",
    "\n",
    "# Plot Heatmap 2\n",
    "im2 = axes[1].imshow(data2, cmap='viridis', aspect='auto')\n",
    "axes[1].set_title('Heatmap 2 (20x20 bins)')\n",
    "fig.colorbar(im2, ax=axes[1], fraction=0.046, pad=0.04)\n",
    "\n",
    "# Function to add a scale bar\n",
    "def add_scale_bar(ax, scale_length, height=0.02, color='black', label=None, loc='lower right', pad=0.05):\n",
    "    \"\"\"\n",
    "    Adds a scale bar to a matplotlib axis.\n",
    "\n",
    "    Parameters:\n",
    "    - ax: The axis to add the scale bar to.\n",
    "    - scale_length: The length of the scale bar in data units.\n",
    "    - height: The height of the scale bar as a fraction of the axis height.\n",
    "    - color: Color of the scale bar.\n",
    "    - label: Optional label for the scale bar.\n",
    "    - loc: Location code (e.g., 'lower right').\n",
    "    - pad: Padding from the specified location.\n",
    "    \"\"\"\n",
    "    # Get axis limits\n",
    "    xlim = ax.get_xlim()\n",
    "    ylim = ax.get_ylim()\n",
    "    \n",
    "    # Determine position based on 'loc'\n",
    "    if loc == 'lower right':\n",
    "        x_start = xlim[1] - scale_length - (xlim[1] - xlim[0]) * pad\n",
    "        y_start = ylim[0] + (ylim[1] - ylim[0]) * pad\n",
    "    elif loc == 'lower left':\n",
    "        x_start = xlim[0] + (xlim[1] - xlim[0]) * pad\n",
    "        y_start = ylim[0] + (ylim[1] - ylim[0]) * pad\n",
    "    elif loc == 'upper right':\n",
    "        x_start = xlim[1] - scale_length - (xlim[1] - xlim[0]) * pad\n",
    "        y_start = ylim[1] - (ylim[1] - ylim[0]) * pad - height * (ylim[1] - ylim[0])\n",
    "    elif loc == 'upper left':\n",
    "        x_start = xlim[0] + (xlim[1] - xlim[0]) * pad\n",
    "        y_start = ylim[1] - (ylim[1] - ylim[0]) * pad - height * (ylim[1] - ylim[0])\n",
    "    else:\n",
    "        raise ValueError(\"Unsupported location. Use 'lower right', 'lower left', 'upper right', or 'upper left'.\")\n",
    "\n",
    "    # Add Rectangle patch as scale bar\n",
    "    rect = Rectangle((x_start, y_start), scale_length, height * (ylim[1] - ylim[0]),\n",
    "                     linewidth=0, edgecolor=None, facecolor=color, transform=ax.transData, zorder=10)\n",
    "    ax.add_patch(rect)\n",
    "\n",
    "    # Add label if provided\n",
    "    if label:\n",
    "        ax.text(x_start + scale_length / 2, y_start - (ylim[1] - ylim[0]) * 0.02,\n",
    "                label, ha='center', va='top', color=color, transform=ax.transData,fontsize=GLOBALFONTSIZE-1)\n"
   ]
  },
  {
   "cell_type": "code",
   "execution_count": 90,
   "metadata": {},
   "outputs": [
    {
     "data": {
      "image/png": "[encoded data removed]",
      "text/plain": [
       "<Figure size 3150x2160 with 19 Axes>"
      ]
     },
     "metadata": {},
     "output_type": "display_data"
    }
   ],
   "source": [
    "from matplotlib.gridspec import GridSpecFromSubplotSpec\n",
    "from matplotlib.image import imread\n",
    "\n",
    "nrows = 4\n",
    "ncols = 7\n",
    "colSize = 1.5\n",
    "rowSize = 1.8\n",
    "sns.set(rc={\"figure.dpi\":300, 'savefig.dpi':300})\n",
    "sns.set_theme(style = 'ticks')\n",
    "\n",
    "def add_text(ax,x,y,label,fw = 'normal'):\n",
    "    ax.text(x,y,label, style='normal', fontweight=fw, fontsize=GLOBALFONTSIZE + 2,\n",
    "                  verticalalignment='center', horizontalalignment='center', transform=ax.transAxes)\n",
    "\n",
    "fig = plt.figure(figsize=(ncols*colSize,nrows*rowSize),constrained_layout=True) \n",
    "gs = gridspec.GridSpec(nrows, ncols, figure=fig,height_ratios=[0.1,1,1,1],width_ratios=[1,0.01,1,1,0.01,1,1])\n",
    "\n",
    "# NOTE Scale bar\n",
    "room_scale = 5/3\n",
    "lever_scale = 5\n",
    "\n",
    "# NOTE Title\n",
    "ax0 = fig.add_subplot(gs[0,0])\n",
    "ax0.text(0.5,0.1,'Simulated\\ngrid cell',fontsize=GLOBALFONTSIZE+1,ha='center',va='center',transform=ax0.transAxes,fontweight='bold')\n",
    "ax0.axis('off')\n",
    "\n",
    "ax0 = fig.add_subplot(gs[0,2:4])\n",
    "ax0.text(0.5,0.1,'No re-anchoring',fontsize=GLOBALFONTSIZE+1,ha='center',va='center',transform=ax0.transAxes,fontweight='bold')\n",
    "ax0.axis('off')\n",
    "\n",
    "ax0 = fig.add_subplot(gs[0,5:7])\n",
    "ax0.text(0.5,0.1,'With re-anchoring',fontsize=GLOBALFONTSIZE+1,ha='center',va='center',transform=ax0.transAxes,fontweight='bold')\n",
    "ax0.axis('off')\n",
    "\n",
    "\n",
    "\n",
    "# NOTE First example\n",
    "cell1 = 'jp3129-04062022-0108_389'\n",
    "\n",
    "im = get_simulated_grid_cell_circ80_1(cell1)\n",
    "circ80_map = im.spatial_properties.firing_rate_map\n",
    "\n",
    "ax0 = fig.add_subplot(gs[1,0])\n",
    "plot_firing_rate_map(ax0,circ80_map)\n",
    "ax0.set_title('Random\\nForaging',fontsize=GLOBALFONTSIZE)\n",
    "\n",
    "\n",
    "room_gc, lever_gc = get_room_lever_gc(cell1,anchor=False)\n",
    "\n",
    "ax0 = fig.add_subplot(gs[1,2])\n",
    "plot_firing_rate_map(ax0,room_gc.spatial_properties.firing_rate_map)\n",
    "ax0.set_title('Room\\nreference',fontsize=GLOBALFONTSIZE)\n",
    "\n",
    "\n",
    "ax0 = fig.add_subplot(gs[1,3])\n",
    "plot_firing_rate_map(ax0,lever_gc.spatial_properties.firing_rate_map)\n",
    "ax0.set_title('Lever\\nreference',fontsize=GLOBALFONTSIZE)\n",
    "\n",
    "\n",
    "room_gc, lever_gc = get_room_lever_gc(cell1,anchor=True)\n",
    "\n",
    "ax0 = fig.add_subplot(gs[1,5])\n",
    "plot_firing_rate_map(ax0,room_gc.spatial_properties.firing_rate_map)\n",
    "ax0.set_title('Room\\nreference',fontsize=GLOBALFONTSIZE)\n",
    "\n",
    "\n",
    "ax0 = fig.add_subplot(gs[1,6])\n",
    "plot_firing_rate_map(ax0,lever_gc.spatial_properties.firing_rate_map)\n",
    "ax0.set_title('Lever\\nreference',fontsize=GLOBALFONTSIZE)\n",
    "\n",
    "\n",
    "\n",
    "# NOTE Second example\n",
    "cell2 = 'jp3129-04062022-0108_340'\n",
    "\n",
    "im = get_simulated_grid_cell_circ80_1(cell2)\n",
    "circ80_map = im.spatial_properties.firing_rate_map\n",
    "\n",
    "ax0 = fig.add_subplot(gs[2,0])\n",
    "plot_firing_rate_map(ax0,circ80_map)\n",
    "ax0.set_title('Random\\nForaging',fontsize=GLOBALFONTSIZE)\n",
    "\n",
    "\n",
    "room_gc, lever_gc = get_room_lever_gc(cell2,anchor=False)\n",
    "\n",
    "ax0 = fig.add_subplot(gs[2,2])\n",
    "plot_firing_rate_map(ax0,room_gc.spatial_properties.firing_rate_map)\n",
    "ax0.set_title('Room\\nreference',fontsize=GLOBALFONTSIZE)\n",
    "\n",
    "ax0 = fig.add_subplot(gs[2,3])\n",
    "plot_firing_rate_map(ax0,lever_gc.spatial_properties.firing_rate_map)\n",
    "ax0.set_title('Lever\\nreference',fontsize=GLOBALFONTSIZE)\n",
    "\n",
    "room_gc, lever_gc = get_room_lever_gc(cell2,anchor=True)\n",
    "\n",
    "ax0 = fig.add_subplot(gs[2,5])\n",
    "plot_firing_rate_map(ax0,room_gc.spatial_properties.firing_rate_map)\n",
    "ax0.set_title('Room\\nreference',fontsize=GLOBALFONTSIZE)\n",
    "\n",
    "ax0 = fig.add_subplot(gs[2,6])\n",
    "plot_firing_rate_map(ax0,lever_gc.spatial_properties.firing_rate_map)\n",
    "ax0.set_title('Lever\\nreference',fontsize=GLOBALFONTSIZE)\n",
    "\n",
    "# NOTE Third example\n",
    "cell3 = 'jp3269-29112022-0108_25'\n",
    "\n",
    "im = get_simulated_grid_cell_circ80_1(cell3)\n",
    "circ80_map = im.spatial_properties.firing_rate_map\n",
    "\n",
    "ax0 = fig.add_subplot(gs[3,0])\n",
    "plot_firing_rate_map(ax0,circ80_map)\n",
    "ax0.set_title('Random\\nForaging',fontsize=GLOBALFONTSIZE)\n",
    "\n",
    "\n",
    "room_gc, lever_gc = get_room_lever_gc(cell3,anchor=False)\n",
    "\n",
    "ax0 = fig.add_subplot(gs[3,2])\n",
    "plot_firing_rate_map(ax0,room_gc.spatial_properties.firing_rate_map)\n",
    "ax0.set_title('Room\\nreference',fontsize=GLOBALFONTSIZE)\n",
    "add_scale_bar(ax0, scale_length=room_scale, label='5 cm', loc='lower right')\n",
    "\n",
    "ax0 = fig.add_subplot(gs[3,3])\n",
    "plot_firing_rate_map(ax0,lever_gc.spatial_properties.firing_rate_map)\n",
    "ax0.set_title('Lever\\nreference',fontsize=GLOBALFONTSIZE)\n",
    "add_scale_bar(ax0, scale_length=lever_scale, label='5 cm', loc='lower right')\n",
    "\n",
    "\n",
    "room_gc, lever_gc = get_room_lever_gc(cell3,anchor=True)\n",
    "\n",
    "ax0 = fig.add_subplot(gs[3,5])\n",
    "plot_firing_rate_map(ax0,room_gc.spatial_properties.firing_rate_map)\n",
    "ax0.set_title('Room\\nreference',fontsize=GLOBALFONTSIZE)\n",
    "add_scale_bar(ax0, scale_length=room_scale, label='5 cm', loc='lower right')\n",
    "\n",
    "\n",
    "ax0 = fig.add_subplot(gs[3,6])\n",
    "plot_firing_rate_map(ax0,lever_gc.spatial_properties.firing_rate_map)\n",
    "ax0.set_title('Lever\\nreference',fontsize=GLOBALFONTSIZE)\n",
    "add_scale_bar(ax0, scale_length=lever_scale, label='5 cm', loc='lower right')\n",
    "\n",
    "\n",
    "# NOTE Add figure legends\n",
    "gs1 = GridSpecFromSubplotSpec(1, 1, subplot_spec=gs[:,:])\n",
    "#***********************************#\n",
    "ax0 = fig.add_subplot(gs1[:,:])\n",
    "\n",
    "#Add figure legend\n",
    "add_text(ax0,0,1,'a',fw='900')\n",
    "add_text(ax0,0.2,1,'b',fw='900')\n",
    "add_text(ax0,0.6,1,'c',fw='900')\n",
    "\n",
    "ax0.axis('off')\n",
    "###\n",
    "\n",
    "plt.savefig('../../Output/Ext_Figure9.jpg',bbox_inches='tight',dpi=300)"
   ]
  },
  {
   "cell_type": "code",
   "execution_count": null,
   "metadata": {},
   "outputs": [],
   "source": []
  }
 ],
 "metadata": {
  "kernelspec": {
   "display_name": "my_custom_environment",
   "language": "python",
   "name": "python3"
  },
  "language_info": {
   "codemirror_mode": {
    "name": "ipython",
    "version": 3
   },
   "file_extension": ".py",
   "mimetype": "text/x-python",
   "name": "python",
   "nbconvert_exporter": "python",
   "pygments_lexer": "ipython3",
   "version": "3.11.5"
  }
 },
 "nbformat": 4,
 "nbformat_minor": 2
}
